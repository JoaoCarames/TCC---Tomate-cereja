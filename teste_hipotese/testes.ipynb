{
 "cells": [
  {
   "cell_type": "markdown",
   "metadata": {},
   "source": [
    "<div style=\"text-align: justify; padding: 20px; background-color: #000000; color: #ffffff; border-radius: 10px;\">\n",
    "\n",
    "# **Teste de hipóteses entre tomates da horta e da Fitotron**  \n",
    "### **Autor: Pedro Thomazelli Ferreira**\n",
    "📅 **Última modificação:** 21 de Novembro de 2024  \n",
    "\n",
    "---\n",
    "\n",
    "## **Trabalho principal: Impacto das mudanças climáticas no cultivo e consumo do tomate-cereja**\n",
    "### **Autores principais: Ana Clara Batista Loponi e João Guilherme dos Santos Caramês**  \n",
    "\n",
    "---\n",
    "\n",
    "### **Resumo**  \n",
    "<p style=\"text-align: justify; margin: 10px 50px;\">\n",
    "Nesse notebook, são feitos cálculos para determinação dos valores <b> p </b>, que visam confirmar hipóteses sobre caraceterísticas dos tomates em temperaturas diferentes. Na Fitotron, a temperatura é aquela que se que será atingida em 2050.\n",
    "</p>\n",
    "\n",
    "---\n",
    "\n",
    "### **Palavras-chave**  \n",
    "🔑 *Teste de hipótese, alimento, mudanças climáticas, segurança alimentar, cultivo, consumo, análise de alimentos*  \n",
    "\n",
    "</div>"
   ]
  },
  {
   "cell_type": "markdown",
   "metadata": {},
   "source": [
    "### Importações"
   ]
  },
  {
   "cell_type": "code",
   "execution_count": 1,
   "metadata": {},
   "outputs": [
    {
     "name": "stderr",
     "output_type": "stream",
     "text": [
      "/home/ABTLUS/pedro220058/.local/lib/python3.10/site-packages/matplotlib/projections/__init__.py:63: UserWarning: Unable to import Axes3D. This may be due to multiple versions of Matplotlib being installed (e.g. as a system package and as a pip package). As a result, the 3D projection is not available.\n",
      "  warnings.warn(\"Unable to import Axes3D. This may be due to multiple versions of \"\n"
     ]
    }
   ],
   "source": [
    "import numpy as np\n",
    "import pandas as pd\n",
    "import matplotlib.pyplot as plt\n",
    "import seaborn as sns\n",
    "import scikit_posthocs as sp\n",
    "from itertools import combinations\n",
    "from scipy import stats"
   ]
  },
  {
   "cell_type": "markdown",
   "metadata": {},
   "source": [
    "### Definindo variáveis"
   ]
  },
  {
   "cell_type": "code",
   "execution_count": 2,
   "metadata": {},
   "outputs": [],
   "source": [
    "nivel_confianca = 0.95\n",
    "\n",
    "significancia = 1 - nivel_confianca"
   ]
  },
  {
   "cell_type": "markdown",
   "metadata": {},
   "source": [
    "### Função que recebe valor de significância"
   ]
  },
  {
   "cell_type": "code",
   "execution_count": 3,
   "metadata": {},
   "outputs": [],
   "source": [
    "def valor_signif (pvalor, significancia):\n",
    "    if pvalor < significancia:\n",
    "        print(f'Como {pvalor = :.3f} < significância, rejeitamos a hipótese nula.')\n",
    "    else:\n",
    "        print(f'Como {pvalor = :.3f} > significância, devemos aceitar a hipótese nula.')"
   ]
  },
  {
   "cell_type": "markdown",
   "metadata": {},
   "source": [
    "### Teste de Shapiro-Wilk"
   ]
  },
  {
   "cell_type": "markdown",
   "metadata": {},
   "source": [
    "Aqui faremos testes para características dos tomates."
   ]
  },
  {
   "cell_type": "code",
   "execution_count": 4,
   "metadata": {},
   "outputs": [],
   "source": [
    "medias_horta = [0.82, 7.42, 89.74, 0.67, 1.02, 0.55, 1.65]\n",
    "dp_horta = [0.03, 0.87, 0.24, 0.04, 0.12, 0.16, 0.26]\n",
    "medias_fito = [0.61, 6.42, 90.92, 0.90, 1.67, 0.81, 2.79]\n",
    "dp_fito = [0.04, 0.0, 0.19, 0.03, 0.03, 0.19, 0.45]\n",
    "n_amostras_horta = 3\n",
    "n_amostras_fito = 3"
   ]
  },
  {
   "cell_type": "code",
   "execution_count": 5,
   "metadata": {},
   "outputs": [],
   "source": [
    "np.random.seed(42)\n",
    "\n",
    "amostra_acid_horta = np.random.normal(medias_horta[0], dp_horta[0], n_amostras_horta)\n",
    "amostra_acid_fito = np.random.normal(medias_fito[0], dp_fito[0], n_amostras_fito)\n",
    "\n",
    "amostra_ss_horta = np.random.normal(medias_horta[1], dp_horta[1], n_amostras_horta)\n",
    "amostra_ss_fito = np.random.normal(medias_fito[1], dp_fito[1], n_amostras_fito)\n",
    "\n",
    "amostra_u_horta = np.random.normal(medias_horta[2], dp_horta[2], n_amostras_horta)\n",
    "amostra_u_fito = np.random.normal(medias_fito[2], dp_fito[2], n_amostras_fito)\n",
    "\n",
    "amostra_c_horta = np.random.normal(medias_horta[3], dp_horta[3], n_amostras_horta)\n",
    "amostra_c_fito = np.random.normal(medias_fito[3], dp_fito[3], n_amostras_fito)\n",
    "\n",
    "amostra_p_horta = np.random.normal(medias_horta[4], dp_horta[4], n_amostras_horta)\n",
    "amostra_p_fito = np.random.normal(medias_fito[4], dp_fito[4], n_amostras_fito)\n",
    "\n",
    "amostra_l_horta = np.random.normal(medias_horta[5], dp_horta[5], n_amostras_horta)\n",
    "amostra_l_fito = np.random.normal(medias_fito[5], dp_fito[5], n_amostras_fito)\n",
    "\n",
    "amostra_vc_horta = np.random.normal(medias_horta[6], dp_horta[6], n_amostras_horta)\n",
    "amostra_vc_fito = np.random.normal(medias_fito[6], dp_fito[6], n_amostras_fito)\n",
    "\n",
    "amostra_incub1_raiz = np.random.normal(9.22, 1.84, 24)\n",
    "amostra_incub2_raiz = np.random.normal(8.22, 2.21, 25)\n",
    "amostra_fito3_raiz = np.random.normal(6.06, 1.60, 25)\n",
    "amostra_fito4_raiz = np.random.normal(8.50, 1.46, 23)\n",
    "\n",
    "amostra_incub1_caule = np.random.normal(4.80, 0.68, 24)\n",
    "amostra_incub2_caule = np.random.normal(4.70, 0.64, 25)\n",
    "amostra_fito3_caule = np.random.normal(4.24, 0.76, 25)\n",
    "amostra_fito4_caule = np.random.normal(5.43, 0.96, 23)\n",
    "\n",
    "amostra_incub_raiz = np.random.normal(8.72, 2.02, 49)\n",
    "amostra_fito_raiz = np.random.normal(7.28, 1.53, 48)\n",
    "\n",
    "amostra_incub_caule = np.random.normal(4.75, 0.66, 49)\n",
    "amostra_fito_caule = np.random.normal(4.83, 0.86, 48)"
   ]
  },
  {
   "cell_type": "code",
   "execution_count": 6,
   "metadata": {},
   "outputs": [
    {
     "name": "stderr",
     "output_type": "stream",
     "text": [
      "/home/ABTLUS/pedro220058/.local/lib/python3.10/site-packages/scipy/stats/_axis_nan_policy.py:531: RuntimeWarning: Precision loss occurred in moment calculation due to catastrophic cancellation. This occurs when the data are nearly identical. Results may be unreliable.\n",
      "  res = hypotest_fun_out(*samples, **kwds)\n"
     ]
    }
   ],
   "source": [
    "t_stat_acid, p_valor_acid = stats.ttest_ind(amostra_acid_horta, amostra_acid_fito)\n",
    "t_stat_ss, p_valor_ss = stats.ttest_ind(amostra_ss_horta, amostra_ss_fito)\n",
    "t_stat_u, p_valor_u = stats.ttest_ind(amostra_u_horta, amostra_u_fito)\n",
    "t_stat_c, p_valor_c = stats.ttest_ind(amostra_c_horta, amostra_c_fito)\n",
    "t_stat_p, p_valor_p = stats.ttest_ind(amostra_p_horta, amostra_p_fito)\n",
    "t_stat_l, p_valor_l = stats.ttest_ind(amostra_l_horta, amostra_l_fito)\n",
    "t_stat_vc, p_valor_vc = stats.ttest_ind(amostra_vc_horta, amostra_vc_fito)\n",
    "t_stat_raiz, p_valor_raiz = stats.ttest_ind(amostra_incub_raiz, amostra_fito_raiz)\n",
    "t_stat_caule, p_valor_caule = stats.ttest_ind(amostra_incub_caule, amostra_fito_caule)"
   ]
  },
  {
   "cell_type": "code",
   "execution_count": 7,
   "metadata": {},
   "outputs": [
    {
     "name": "stdout",
     "output_type": "stream",
     "text": [
      "Estatística t: 8.402116650757513\n",
      "Valor p: 0.0010981403733531874\n"
     ]
    }
   ],
   "source": [
    "print(f'Estatística t: {t_stat_acid}')\n",
    "print(f'Valor p: {p_valor_acid}')"
   ]
  },
  {
   "cell_type": "code",
   "execution_count": 8,
   "metadata": {},
   "outputs": [
    {
     "name": "stdout",
     "output_type": "stream",
     "text": [
      "Como pvalor = 0.001 < significância, rejeitamos a hipótese nula.\n"
     ]
    }
   ],
   "source": [
    "valor_signif(p_valor_acid, significancia)"
   ]
  },
  {
   "cell_type": "code",
   "execution_count": 9,
   "metadata": {},
   "outputs": [
    {
     "name": "stdout",
     "output_type": "stream",
     "text": [
      "Como pvalor = 0.041 < significância, rejeitamos a hipótese nula.\n"
     ]
    }
   ],
   "source": [
    "valor_signif(p_valor_ss, significancia)"
   ]
  },
  {
   "cell_type": "code",
   "execution_count": 10,
   "metadata": {},
   "outputs": [
    {
     "name": "stdout",
     "output_type": "stream",
     "text": [
      "Como pvalor = 0.002 < significância, rejeitamos a hipótese nula.\n"
     ]
    }
   ],
   "source": [
    "valor_signif(p_valor_u, significancia)"
   ]
  },
  {
   "cell_type": "code",
   "execution_count": 11,
   "metadata": {},
   "outputs": [
    {
     "name": "stdout",
     "output_type": "stream",
     "text": [
      "Como pvalor = 0.004 < significância, rejeitamos a hipótese nula.\n"
     ]
    }
   ],
   "source": [
    "valor_signif(p_valor_c, significancia)"
   ]
  },
  {
   "cell_type": "code",
   "execution_count": 12,
   "metadata": {},
   "outputs": [
    {
     "name": "stdout",
     "output_type": "stream",
     "text": [
      "Como pvalor = 0.000 < significância, rejeitamos a hipótese nula.\n"
     ]
    }
   ],
   "source": [
    "valor_signif(p_valor_p, significancia)"
   ]
  },
  {
   "cell_type": "code",
   "execution_count": 13,
   "metadata": {},
   "outputs": [
    {
     "name": "stdout",
     "output_type": "stream",
     "text": [
      "Como pvalor = 0.000 < significância, rejeitamos a hipótese nula.\n"
     ]
    }
   ],
   "source": [
    "valor_signif(p_valor_p, significancia)"
   ]
  },
  {
   "cell_type": "code",
   "execution_count": 14,
   "metadata": {},
   "outputs": [
    {
     "name": "stdout",
     "output_type": "stream",
     "text": [
      "Como pvalor = 0.001 < significância, rejeitamos a hipótese nula.\n"
     ]
    }
   ],
   "source": [
    "valor_signif(p_valor_vc, significancia)"
   ]
  },
  {
   "cell_type": "code",
   "execution_count": 15,
   "metadata": {},
   "outputs": [
    {
     "name": "stdout",
     "output_type": "stream",
     "text": [
      "Como pvalor = 0.004 < significância, rejeitamos a hipótese nula.\n"
     ]
    }
   ],
   "source": [
    "valor_signif(p_valor_raiz, significancia)"
   ]
  },
  {
   "cell_type": "code",
   "execution_count": 16,
   "metadata": {},
   "outputs": [
    {
     "name": "stdout",
     "output_type": "stream",
     "text": [
      "Como pvalor = 0.321 > significância, devemos aceitar a hipótese nula.\n"
     ]
    }
   ],
   "source": [
    "valor_signif(p_valor_caule, significancia)"
   ]
  }
 ],
 "metadata": {
  "kernelspec": {
   "display_name": "Python 3",
   "language": "python",
   "name": "python3"
  },
  "language_info": {
   "codemirror_mode": {
    "name": "ipython",
    "version": 3
   },
   "file_extension": ".py",
   "mimetype": "text/x-python",
   "name": "python",
   "nbconvert_exporter": "python",
   "pygments_lexer": "ipython3",
   "version": "3.10.12"
  },
  "orig_nbformat": 4
 },
 "nbformat": 4,
 "nbformat_minor": 2
}
