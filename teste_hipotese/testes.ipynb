{
 "cells": [
  {
   "cell_type": "markdown",
   "metadata": {},
   "source": [
    "<div style=\"text-align: justify; padding: 20px; background-color: #000000; color: #ffffff; border-radius: 10px;\">\n",
    "\n",
    "# **Teste de hipóteses entre tomates da horta e da Fitotron**  \n",
    "### **Autor: Pedro Thomazelli Ferreira**\n",
    "📅 **Última modificação:** 21 de Novembro de 2024  \n",
    "\n",
    "---\n",
    "\n",
    "## **Trabalho principal: Impacto das mudanças climáticas no cultivo e consumo do tomate-cereja**\n",
    "### **Autores principais: Ana Clara Batista Loponi e João Guilherme dos Santos Caramês**  \n",
    "\n",
    "---\n",
    "\n",
    "### **Resumo**  \n",
    "<p style=\"text-align: justify; margin: 10px 50px;\">\n",
    "Nesse notebook, são feitos cálculos para determinação dos valores <b> p </b>, que visam confirmar hipóteses sobre caraceterísticas dos tomates em temperaturas diferentes. Na Fitotron, a temperatura é aquela que se que será atingida em 2050.\n",
    "</p>\n",
    "\n",
    "---\n",
    "\n",
    "### **Palavras-chave**  \n",
    "🔑 *Teste de hipótese, alimento, mudanças climáticas, segurança alimentar, cultivo, consumo, análise de alimentos*  \n",
    "\n",
    "</div>"
   ]
  },
  {
   "cell_type": "markdown",
   "metadata": {},
   "source": [
    "### Importações"
   ]
  },
  {
   "cell_type": "code",
   "execution_count": 2,
   "metadata": {},
   "outputs": [
    {
     "name": "stderr",
     "output_type": "stream",
     "text": [
      "/home/ABTLUS/pedro220058/.local/lib/python3.10/site-packages/matplotlib/projections/__init__.py:63: UserWarning: Unable to import Axes3D. This may be due to multiple versions of Matplotlib being installed (e.g. as a system package and as a pip package). As a result, the 3D projection is not available.\n",
      "  warnings.warn(\"Unable to import Axes3D. This may be due to multiple versions of \"\n"
     ]
    }
   ],
   "source": [
    "import numpy as np\n",
    "import pandas as pd\n",
    "import matplotlib.pyplot as plt\n",
    "import seaborn as sns\n",
    "import scikit_posthocs as sp\n",
    "from itertools import combinations\n",
    "from scipy import stats"
   ]
  },
  {
   "cell_type": "markdown",
   "metadata": {},
   "source": [
    "### Definindo variáveis"
   ]
  },
  {
   "cell_type": "code",
   "execution_count": 3,
   "metadata": {},
   "outputs": [],
   "source": [
    "nivel_confianca = 0.95\n",
    "\n",
    "significancia = 1 - nivel_confianca"
   ]
  },
  {
   "cell_type": "markdown",
   "metadata": {},
   "source": [
    "### Função que recebe valor de significância"
   ]
  },
  {
   "cell_type": "code",
   "execution_count": 4,
   "metadata": {},
   "outputs": [],
   "source": [
    "def valor_signif (pvalor, significancia):\n",
    "    if pvalor < significancia:\n",
    "        print(f'Como {pvalor = :.3f} < significância, rejeitamos a hipótese nula.')\n",
    "    else:\n",
    "        print(f'Como {pvalor = :.3f} > significância, devemos aceitar a hipótese nula.')"
   ]
  },
  {
   "cell_type": "code",
   "execution_count": 5,
   "metadata": {},
   "outputs": [
    {
     "data": {
      "text/html": [
       "<div>\n",
       "<style scoped>\n",
       "    .dataframe tbody tr th:only-of-type {\n",
       "        vertical-align: middle;\n",
       "    }\n",
       "\n",
       "    .dataframe tbody tr th {\n",
       "        vertical-align: top;\n",
       "    }\n",
       "\n",
       "    .dataframe thead th {\n",
       "        text-align: right;\n",
       "    }\n",
       "</style>\n",
       "<table border=\"1\" class=\"dataframe\">\n",
       "  <thead>\n",
       "    <tr style=\"text-align: right;\">\n",
       "      <th></th>\n",
       "      <th>Amostra</th>\n",
       "      <th>N (g/kg)</th>\n",
       "      <th>P (g/kg)</th>\n",
       "      <th>K (g/kg)</th>\n",
       "      <th>Ca (g/kg)</th>\n",
       "      <th>Mg (g/kg)</th>\n",
       "      <th>S (g/kg)</th>\n",
       "      <th>B (mg/kg)</th>\n",
       "      <th>Cu (mg/kg)</th>\n",
       "      <th>Fe (g/kg)</th>\n",
       "      <th>Mn (mg/kg)</th>\n",
       "      <th>Zn (mg/kg)</th>\n",
       "      <th>Na (mg/kg)</th>\n",
       "    </tr>\n",
       "  </thead>\n",
       "  <tbody>\n",
       "    <tr>\n",
       "      <th>0</th>\n",
       "      <td>Inicial 1</td>\n",
       "      <td>6.400000</td>\n",
       "      <td>1.500000</td>\n",
       "      <td>2.300000</td>\n",
       "      <td>3.600000</td>\n",
       "      <td>1.300000</td>\n",
       "      <td>1.300000</td>\n",
       "      <td>62.200000</td>\n",
       "      <td>23.400000</td>\n",
       "      <td>8.800000</td>\n",
       "      <td>126.300000</td>\n",
       "      <td>52.300000</td>\n",
       "      <td>430.000000</td>\n",
       "    </tr>\n",
       "    <tr>\n",
       "      <th>1</th>\n",
       "      <td>Inicial 2</td>\n",
       "      <td>4.400000</td>\n",
       "      <td>1.500000</td>\n",
       "      <td>2.600000</td>\n",
       "      <td>3.900000</td>\n",
       "      <td>1.500000</td>\n",
       "      <td>1.300000</td>\n",
       "      <td>57.300000</td>\n",
       "      <td>22.900000</td>\n",
       "      <td>9.400000</td>\n",
       "      <td>128.000000</td>\n",
       "      <td>55.700000</td>\n",
       "      <td>476.000000</td>\n",
       "    </tr>\n",
       "    <tr>\n",
       "      <th>2</th>\n",
       "      <td>Inicial 3</td>\n",
       "      <td>3.700000</td>\n",
       "      <td>1.300000</td>\n",
       "      <td>2.300000</td>\n",
       "      <td>3.600000</td>\n",
       "      <td>1.400000</td>\n",
       "      <td>1.000000</td>\n",
       "      <td>52.700000</td>\n",
       "      <td>21.700000</td>\n",
       "      <td>8.600000</td>\n",
       "      <td>129.600000</td>\n",
       "      <td>45.900000</td>\n",
       "      <td>441.000000</td>\n",
       "    </tr>\n",
       "    <tr>\n",
       "      <th>3</th>\n",
       "      <td>Fitotron 1</td>\n",
       "      <td>4.600000</td>\n",
       "      <td>0.900000</td>\n",
       "      <td>1.600000</td>\n",
       "      <td>2.500000</td>\n",
       "      <td>1.100000</td>\n",
       "      <td>0.500000</td>\n",
       "      <td>35.400000</td>\n",
       "      <td>17.900000</td>\n",
       "      <td>9.400000</td>\n",
       "      <td>94.700000</td>\n",
       "      <td>37.000000</td>\n",
       "      <td>200.100000</td>\n",
       "    </tr>\n",
       "    <tr>\n",
       "      <th>4</th>\n",
       "      <td>Fitotron 2</td>\n",
       "      <td>4.900000</td>\n",
       "      <td>1.500000</td>\n",
       "      <td>2.100000</td>\n",
       "      <td>3.800000</td>\n",
       "      <td>1.400000</td>\n",
       "      <td>0.800000</td>\n",
       "      <td>38.700000</td>\n",
       "      <td>22.900000</td>\n",
       "      <td>10.000000</td>\n",
       "      <td>219.200000</td>\n",
       "      <td>56.400000</td>\n",
       "      <td>235.900000</td>\n",
       "    </tr>\n",
       "    <tr>\n",
       "      <th>5</th>\n",
       "      <td>Fitotron 3</td>\n",
       "      <td>6.000000</td>\n",
       "      <td>1.300000</td>\n",
       "      <td>2.000000</td>\n",
       "      <td>2.900000</td>\n",
       "      <td>1.200000</td>\n",
       "      <td>0.600000</td>\n",
       "      <td>33.200000</td>\n",
       "      <td>21.400000</td>\n",
       "      <td>8.700000</td>\n",
       "      <td>98.700000</td>\n",
       "      <td>46.700000</td>\n",
       "      <td>226.800000</td>\n",
       "    </tr>\n",
       "    <tr>\n",
       "      <th>6</th>\n",
       "      <td>Horta 1</td>\n",
       "      <td>4.300000</td>\n",
       "      <td>1.000000</td>\n",
       "      <td>1.500000</td>\n",
       "      <td>2.300000</td>\n",
       "      <td>1.000000</td>\n",
       "      <td>0.500000</td>\n",
       "      <td>28.000000</td>\n",
       "      <td>18.300000</td>\n",
       "      <td>7.700000</td>\n",
       "      <td>89.700000</td>\n",
       "      <td>41.700000</td>\n",
       "      <td>198.900000</td>\n",
       "    </tr>\n",
       "    <tr>\n",
       "      <th>7</th>\n",
       "      <td>Horta 2</td>\n",
       "      <td>4.500000</td>\n",
       "      <td>1.100000</td>\n",
       "      <td>1.900000</td>\n",
       "      <td>3.700000</td>\n",
       "      <td>1.600000</td>\n",
       "      <td>0.600000</td>\n",
       "      <td>29.800000</td>\n",
       "      <td>21.600000</td>\n",
       "      <td>8.000000</td>\n",
       "      <td>101.500000</td>\n",
       "      <td>45.700000</td>\n",
       "      <td>295.700000</td>\n",
       "    </tr>\n",
       "    <tr>\n",
       "      <th>8</th>\n",
       "      <td>Horta 3</td>\n",
       "      <td>5.500000</td>\n",
       "      <td>1.100000</td>\n",
       "      <td>1.600000</td>\n",
       "      <td>3.200000</td>\n",
       "      <td>1.400000</td>\n",
       "      <td>0.600000</td>\n",
       "      <td>30.000000</td>\n",
       "      <td>19.200000</td>\n",
       "      <td>8.700000</td>\n",
       "      <td>109.300000</td>\n",
       "      <td>43.500000</td>\n",
       "      <td>200.200000</td>\n",
       "    </tr>\n",
       "    <tr>\n",
       "      <th>9</th>\n",
       "      <td>NaN</td>\n",
       "      <td>NaN</td>\n",
       "      <td>NaN</td>\n",
       "      <td>NaN</td>\n",
       "      <td>NaN</td>\n",
       "      <td>NaN</td>\n",
       "      <td>NaN</td>\n",
       "      <td>NaN</td>\n",
       "      <td>NaN</td>\n",
       "      <td>NaN</td>\n",
       "      <td>NaN</td>\n",
       "      <td>NaN</td>\n",
       "      <td>NaN</td>\n",
       "    </tr>\n",
       "    <tr>\n",
       "      <th>10</th>\n",
       "      <td>Desvio Padrão Inicial</td>\n",
       "      <td>1.401190</td>\n",
       "      <td>0.115470</td>\n",
       "      <td>0.173205</td>\n",
       "      <td>0.173205</td>\n",
       "      <td>0.100000</td>\n",
       "      <td>0.173205</td>\n",
       "      <td>4.750789</td>\n",
       "      <td>0.873689</td>\n",
       "      <td>0.416333</td>\n",
       "      <td>1.650253</td>\n",
       "      <td>4.975942</td>\n",
       "      <td>24.020824</td>\n",
       "    </tr>\n",
       "    <tr>\n",
       "      <th>11</th>\n",
       "      <td>Desvio Padrão Fitotron</td>\n",
       "      <td>0.737111</td>\n",
       "      <td>0.305505</td>\n",
       "      <td>0.264575</td>\n",
       "      <td>0.665833</td>\n",
       "      <td>0.152753</td>\n",
       "      <td>0.152753</td>\n",
       "      <td>2.768273</td>\n",
       "      <td>2.565801</td>\n",
       "      <td>0.650641</td>\n",
       "      <td>70.753681</td>\n",
       "      <td>9.700000</td>\n",
       "      <td>18.607078</td>\n",
       "    </tr>\n",
       "    <tr>\n",
       "      <th>12</th>\n",
       "      <td>Desvio Padrão Horta</td>\n",
       "      <td>0.642910</td>\n",
       "      <td>0.057735</td>\n",
       "      <td>0.208167</td>\n",
       "      <td>0.709460</td>\n",
       "      <td>0.305505</td>\n",
       "      <td>0.057735</td>\n",
       "      <td>1.101514</td>\n",
       "      <td>1.705872</td>\n",
       "      <td>0.513160</td>\n",
       "      <td>9.867793</td>\n",
       "      <td>2.003331</td>\n",
       "      <td>55.516034</td>\n",
       "    </tr>\n",
       "    <tr>\n",
       "      <th>13</th>\n",
       "      <td>NaN</td>\n",
       "      <td>NaN</td>\n",
       "      <td>NaN</td>\n",
       "      <td>NaN</td>\n",
       "      <td>NaN</td>\n",
       "      <td>NaN</td>\n",
       "      <td>NaN</td>\n",
       "      <td>NaN</td>\n",
       "      <td>NaN</td>\n",
       "      <td>NaN</td>\n",
       "      <td>NaN</td>\n",
       "      <td>NaN</td>\n",
       "      <td>NaN</td>\n",
       "    </tr>\n",
       "    <tr>\n",
       "      <th>14</th>\n",
       "      <td>Média Inicial</td>\n",
       "      <td>4.833333</td>\n",
       "      <td>1.433333</td>\n",
       "      <td>2.400000</td>\n",
       "      <td>3.700000</td>\n",
       "      <td>1.400000</td>\n",
       "      <td>1.200000</td>\n",
       "      <td>57.400000</td>\n",
       "      <td>22.666667</td>\n",
       "      <td>8.933333</td>\n",
       "      <td>127.966667</td>\n",
       "      <td>51.300000</td>\n",
       "      <td>449.000000</td>\n",
       "    </tr>\n",
       "    <tr>\n",
       "      <th>15</th>\n",
       "      <td>Média Fitotron</td>\n",
       "      <td>5.166667</td>\n",
       "      <td>1.233333</td>\n",
       "      <td>1.900000</td>\n",
       "      <td>3.066667</td>\n",
       "      <td>1.233333</td>\n",
       "      <td>0.633333</td>\n",
       "      <td>35.766667</td>\n",
       "      <td>20.733333</td>\n",
       "      <td>9.366667</td>\n",
       "      <td>137.533333</td>\n",
       "      <td>46.700000</td>\n",
       "      <td>220.933333</td>\n",
       "    </tr>\n",
       "    <tr>\n",
       "      <th>16</th>\n",
       "      <td>Média Horta</td>\n",
       "      <td>4.766667</td>\n",
       "      <td>1.066667</td>\n",
       "      <td>1.666667</td>\n",
       "      <td>3.066667</td>\n",
       "      <td>1.333333</td>\n",
       "      <td>0.566667</td>\n",
       "      <td>29.266667</td>\n",
       "      <td>19.700000</td>\n",
       "      <td>8.133333</td>\n",
       "      <td>100.166667</td>\n",
       "      <td>43.633333</td>\n",
       "      <td>231.600000</td>\n",
       "    </tr>\n",
       "  </tbody>\n",
       "</table>\n",
       "</div>"
      ],
      "text/plain": [
       "                   Amostra  N (g/kg)  P (g/kg)  K (g/kg)  Ca (g/kg)  \\\n",
       "0                Inicial 1  6.400000  1.500000  2.300000   3.600000   \n",
       "1                Inicial 2  4.400000  1.500000  2.600000   3.900000   \n",
       "2                Inicial 3  3.700000  1.300000  2.300000   3.600000   \n",
       "3               Fitotron 1  4.600000  0.900000  1.600000   2.500000   \n",
       "4               Fitotron 2  4.900000  1.500000  2.100000   3.800000   \n",
       "5               Fitotron 3  6.000000  1.300000  2.000000   2.900000   \n",
       "6                  Horta 1  4.300000  1.000000  1.500000   2.300000   \n",
       "7                  Horta 2  4.500000  1.100000  1.900000   3.700000   \n",
       "8                  Horta 3  5.500000  1.100000  1.600000   3.200000   \n",
       "9                      NaN       NaN       NaN       NaN        NaN   \n",
       "10   Desvio Padrão Inicial  1.401190  0.115470  0.173205   0.173205   \n",
       "11  Desvio Padrão Fitotron  0.737111  0.305505  0.264575   0.665833   \n",
       "12     Desvio Padrão Horta  0.642910  0.057735  0.208167   0.709460   \n",
       "13                     NaN       NaN       NaN       NaN        NaN   \n",
       "14           Média Inicial  4.833333  1.433333  2.400000   3.700000   \n",
       "15          Média Fitotron  5.166667  1.233333  1.900000   3.066667   \n",
       "16             Média Horta  4.766667  1.066667  1.666667   3.066667   \n",
       "\n",
       "    Mg (g/kg)  S (g/kg)  B (mg/kg)  Cu (mg/kg)  Fe (g/kg)  Mn (mg/kg)  \\\n",
       "0    1.300000  1.300000  62.200000   23.400000   8.800000  126.300000   \n",
       "1    1.500000  1.300000  57.300000   22.900000   9.400000  128.000000   \n",
       "2    1.400000  1.000000  52.700000   21.700000   8.600000  129.600000   \n",
       "3    1.100000  0.500000  35.400000   17.900000   9.400000   94.700000   \n",
       "4    1.400000  0.800000  38.700000   22.900000  10.000000  219.200000   \n",
       "5    1.200000  0.600000  33.200000   21.400000   8.700000   98.700000   \n",
       "6    1.000000  0.500000  28.000000   18.300000   7.700000   89.700000   \n",
       "7    1.600000  0.600000  29.800000   21.600000   8.000000  101.500000   \n",
       "8    1.400000  0.600000  30.000000   19.200000   8.700000  109.300000   \n",
       "9         NaN       NaN        NaN         NaN        NaN         NaN   \n",
       "10   0.100000  0.173205   4.750789    0.873689   0.416333    1.650253   \n",
       "11   0.152753  0.152753   2.768273    2.565801   0.650641   70.753681   \n",
       "12   0.305505  0.057735   1.101514    1.705872   0.513160    9.867793   \n",
       "13        NaN       NaN        NaN         NaN        NaN         NaN   \n",
       "14   1.400000  1.200000  57.400000   22.666667   8.933333  127.966667   \n",
       "15   1.233333  0.633333  35.766667   20.733333   9.366667  137.533333   \n",
       "16   1.333333  0.566667  29.266667   19.700000   8.133333  100.166667   \n",
       "\n",
       "    Zn (mg/kg)  Na (mg/kg)  \n",
       "0    52.300000  430.000000  \n",
       "1    55.700000  476.000000  \n",
       "2    45.900000  441.000000  \n",
       "3    37.000000  200.100000  \n",
       "4    56.400000  235.900000  \n",
       "5    46.700000  226.800000  \n",
       "6    41.700000  198.900000  \n",
       "7    45.700000  295.700000  \n",
       "8    43.500000  200.200000  \n",
       "9          NaN         NaN  \n",
       "10    4.975942   24.020824  \n",
       "11    9.700000   18.607078  \n",
       "12    2.003331   55.516034  \n",
       "13         NaN         NaN  \n",
       "14   51.300000  449.000000  \n",
       "15   46.700000  220.933333  \n",
       "16   43.633333  231.600000  "
      ]
     },
     "metadata": {},
     "output_type": "display_data"
    }
   ],
   "source": [
    "df = pd.read_excel('ValoresSolos.xlsx')\n",
    "display(df)"
   ]
  },
  {
   "cell_type": "markdown",
   "metadata": {},
   "source": [
    "### Teste de Hipótese"
   ]
  },
  {
   "cell_type": "markdown",
   "metadata": {},
   "source": [
    "Aqui faremos testes para características dos tomates."
   ]
  },
  {
   "cell_type": "code",
   "execution_count": 6,
   "metadata": {},
   "outputs": [],
   "source": [
    "medias_horta = [0.82, 7.42, 89.74, 0.67, 1.02, 0.55, 16.46]\n",
    "dp_horta = [0.03, 0.87, 0.24, 0.04, 0.12, 0.16, 2.27]\n",
    "medias_fito = [0.61, 6.42, 90.92, 0.90, 1.67, 0.81, 27.88]\n",
    "dp_fito = [0.04, 0.0, 0.19, 0.03, 0.03, 0.19, 4.54]\n",
    "n_amostras_horta = 3\n",
    "n_amostras_fito = 3\n",
    "df_novo = df.drop('Amostra', axis=1)\n",
    "medias_solos_horta = (df_novo.iloc[16].tolist())\n",
    "medias_solos_horta = [round(x, 2) for x in medias_solos_horta]\n",
    "dp_solos_horta = (df_novo.iloc[12].tolist())\n",
    "dp_solos_horta = [round(x,2) for x in dp_solos_horta]\n",
    "media_solos_fito = (df_novo.iloc[15].tolist())\n",
    "media_solos_fito = [round(x,2) for x in media_solos_fito]\n",
    "dp_solos_fito = (df_novo.iloc[11].tolist())\n",
    "dp_solos_fito = [round(x,2) for x in dp_solos_fito]"
   ]
  },
  {
   "cell_type": "code",
   "execution_count": 7,
   "metadata": {},
   "outputs": [],
   "source": [
    "np.random.seed(42)\n",
    "\n",
    "amostra_acid_horta = np.random.normal(medias_horta[0], dp_horta[0], n_amostras_horta)\n",
    "amostra_acid_fito = np.random.normal(medias_fito[0], dp_fito[0], n_amostras_fito)\n",
    "\n",
    "amostra_ss_horta = np.random.normal(medias_horta[1], dp_horta[1], n_amostras_horta)\n",
    "amostra_ss_fito = np.random.normal(medias_fito[1], dp_fito[1], n_amostras_fito)\n",
    "\n",
    "amostra_u_horta = np.random.normal(medias_horta[2], dp_horta[2], n_amostras_horta)\n",
    "amostra_u_fito = np.random.normal(medias_fito[2], dp_fito[2], n_amostras_fito)\n",
    "\n",
    "amostra_c_horta = np.random.normal(medias_horta[3], dp_horta[3], n_amostras_horta)\n",
    "amostra_c_fito = np.random.normal(medias_fito[3], dp_fito[3], n_amostras_fito)\n",
    "\n",
    "amostra_p_horta = np.random.normal(medias_horta[4], dp_horta[4], n_amostras_horta)\n",
    "amostra_p_fito = np.random.normal(medias_fito[4], dp_fito[4], n_amostras_fito)\n",
    "\n",
    "amostra_l_horta = np.random.normal(medias_horta[5], dp_horta[5], n_amostras_horta)\n",
    "amostra_l_fito = np.random.normal(medias_fito[5], dp_fito[5], n_amostras_fito)\n",
    "\n",
    "amostra_vc_horta = np.random.normal(medias_horta[6], dp_horta[6], n_amostras_horta)\n",
    "amostra_vc_fito = np.random.normal(medias_fito[6], dp_fito[6], n_amostras_fito)\n",
    "\n",
    "amostra_incub1_raiz = np.random.normal(9.22, 1.84, 24)\n",
    "amostra_incub2_raiz = np.random.normal(8.22, 2.21, 25)\n",
    "amostra_fito3_raiz = np.random.normal(6.06, 1.60, 25)\n",
    "amostra_fito4_raiz = np.random.normal(8.50, 1.46, 23)\n",
    "\n",
    "amostra_incub1_caule = np.random.normal(4.80, 0.68, 24)\n",
    "amostra_incub2_caule = np.random.normal(4.70, 0.64, 25)\n",
    "amostra_fito3_caule = np.random.normal(4.24, 0.76, 25)\n",
    "amostra_fito4_caule = np.random.normal(5.43, 0.96, 23)\n",
    "\n",
    "amostra_incub_raiz = np.random.normal(8.72, 2.02, 49)\n",
    "amostra_fito_raiz = np.random.normal(7.28, 1.53, 48)\n",
    "\n",
    "amostra_incub_caule = np.random.normal(4.75, 0.66, 49)\n",
    "amostra_fito_caule = np.random.normal(4.83, 0.86, 48)"
   ]
  },
  {
   "cell_type": "code",
   "execution_count": 8,
   "metadata": {},
   "outputs": [],
   "source": [
    "amostras_solos_horta = []\n",
    "amostras_solos_fito = []\n",
    "\n",
    "for (i, n, x, y) in zip(medias_solos_horta,dp_solos_horta, media_solos_fito, dp_solos_fito):\n",
    "    amostra_horta = np.random.normal(i,n,3)\n",
    "    amostras_solos_horta.append(amostra_horta)\n",
    "    amostra_fito = np.random.normal(x,y,3)\n",
    "    amostras_solos_fito.append(amostra_fito)"
   ]
  },
  {
   "cell_type": "code",
   "execution_count": 9,
   "metadata": {},
   "outputs": [
    {
     "name": "stderr",
     "output_type": "stream",
     "text": [
      "/home/ABTLUS/pedro220058/.local/lib/python3.10/site-packages/scipy/stats/_axis_nan_policy.py:531: RuntimeWarning: Precision loss occurred in moment calculation due to catastrophic cancellation. This occurs when the data are nearly identical. Results may be unreliable.\n",
      "  res = hypotest_fun_out(*samples, **kwds)\n"
     ]
    }
   ],
   "source": [
    "t_stat_acid, p_valor_acid = stats.ttest_ind(amostra_acid_horta, amostra_acid_fito)\n",
    "t_stat_ss, p_valor_ss = stats.ttest_ind(amostra_ss_horta, amostra_ss_fito)\n",
    "t_stat_u, p_valor_u = stats.ttest_ind(amostra_u_horta, amostra_u_fito)\n",
    "t_stat_c, p_valor_c = stats.ttest_ind(amostra_c_horta, amostra_c_fito)\n",
    "t_stat_p, p_valor_p = stats.ttest_ind(amostra_p_horta, amostra_p_fito)\n",
    "t_stat_l, p_valor_l = stats.ttest_ind(amostra_l_horta, amostra_l_fito)\n",
    "t_stat_vc, p_valor_vc = stats.ttest_ind(amostra_vc_horta, amostra_vc_fito)\n",
    "t_stat_raiz, p_valor_raiz = stats.ttest_ind(amostra_incub_raiz, amostra_fito_raiz)\n",
    "t_stat_caule, p_valor_caule = stats.ttest_ind(amostra_incub_caule, amostra_fito_caule)"
   ]
  },
  {
   "cell_type": "code",
   "execution_count": 10,
   "metadata": {},
   "outputs": [
    {
     "name": "stdout",
     "output_type": "stream",
     "text": [
      "Estatística t: 8.402116650757513\n",
      "Valor p: 0.0010981403733531874\n"
     ]
    }
   ],
   "source": [
    "print(f'Estatística t: {t_stat_acid}')\n",
    "print(f'Valor p: {p_valor_acid}')"
   ]
  },
  {
   "cell_type": "code",
   "execution_count": 11,
   "metadata": {},
   "outputs": [
    {
     "name": "stdout",
     "output_type": "stream",
     "text": [
      "Como pvalor = 0.001 < significância, rejeitamos a hipótese nula.\n"
     ]
    }
   ],
   "source": [
    "valor_signif(p_valor_acid, significancia)"
   ]
  },
  {
   "cell_type": "code",
   "execution_count": 12,
   "metadata": {},
   "outputs": [
    {
     "name": "stdout",
     "output_type": "stream",
     "text": [
      "Como pvalor = 0.041 < significância, rejeitamos a hipótese nula.\n"
     ]
    }
   ],
   "source": [
    "valor_signif(p_valor_ss, significancia)"
   ]
  },
  {
   "cell_type": "code",
   "execution_count": 13,
   "metadata": {},
   "outputs": [
    {
     "name": "stdout",
     "output_type": "stream",
     "text": [
      "Como pvalor = 0.002 < significância, rejeitamos a hipótese nula.\n"
     ]
    }
   ],
   "source": [
    "valor_signif(p_valor_u, significancia)"
   ]
  },
  {
   "cell_type": "code",
   "execution_count": 14,
   "metadata": {},
   "outputs": [
    {
     "name": "stdout",
     "output_type": "stream",
     "text": [
      "Como pvalor = 0.004 < significância, rejeitamos a hipótese nula.\n"
     ]
    }
   ],
   "source": [
    "valor_signif(p_valor_c, significancia)"
   ]
  },
  {
   "cell_type": "code",
   "execution_count": 15,
   "metadata": {},
   "outputs": [
    {
     "name": "stdout",
     "output_type": "stream",
     "text": [
      "Como pvalor = 0.000 < significância, rejeitamos a hipótese nula.\n"
     ]
    }
   ],
   "source": [
    "valor_signif(p_valor_p, significancia)"
   ]
  },
  {
   "cell_type": "code",
   "execution_count": 16,
   "metadata": {},
   "outputs": [
    {
     "name": "stdout",
     "output_type": "stream",
     "text": [
      "Como pvalor = 0.000 < significância, rejeitamos a hipótese nula.\n"
     ]
    }
   ],
   "source": [
    "valor_signif(p_valor_p, significancia)"
   ]
  },
  {
   "cell_type": "code",
   "execution_count": 17,
   "metadata": {},
   "outputs": [
    {
     "name": "stdout",
     "output_type": "stream",
     "text": [
      "Como pvalor = 0.001 < significância, rejeitamos a hipótese nula.\n"
     ]
    }
   ],
   "source": [
    "valor_signif(p_valor_vc, significancia)"
   ]
  },
  {
   "cell_type": "code",
   "execution_count": 18,
   "metadata": {},
   "outputs": [
    {
     "name": "stdout",
     "output_type": "stream",
     "text": [
      "Como pvalor = 0.004 < significância, rejeitamos a hipótese nula.\n"
     ]
    }
   ],
   "source": [
    "valor_signif(p_valor_raiz, significancia)"
   ]
  },
  {
   "cell_type": "code",
   "execution_count": 19,
   "metadata": {},
   "outputs": [
    {
     "name": "stdout",
     "output_type": "stream",
     "text": [
      "Como pvalor = 0.321 > significância, devemos aceitar a hipótese nula.\n"
     ]
    }
   ],
   "source": [
    "valor_signif(p_valor_caule, significancia)"
   ]
  },
  {
   "cell_type": "code",
   "execution_count": 20,
   "metadata": {},
   "outputs": [
    {
     "name": "stdout",
     "output_type": "stream",
     "text": [
      "[np.float64(-3.822135482958174), np.float64(-2.8326388516679293), np.float64(-2.7245756997189456), np.float64(-1.1126818972243304), np.float64(1.3386654966316758), np.float64(-0.543784106780245), np.float64(-1.8166737994085138), np.float64(-0.39414095295414975), np.float64(-0.0629919610273547), np.float64(-1.4037761878322554), np.float64(-0.8731545922142087), np.float64(-1.6074560575713837)]\n",
      "\n",
      "[np.float64(0.018743946070133407), np.float64(0.04721852076511125), np.float64(0.05273718959808982), np.float64(0.32820396946043573), np.float64(0.2516982725183907), np.float64(0.6154794771793686), np.float64(0.14343033062576152), np.float64(0.7135867199506187), np.float64(0.9527950434826343), np.float64(0.2330578629954369), np.float64(0.4318627420312488), np.float64(0.18323297445615033)]\n"
     ]
    }
   ],
   "source": [
    "t_stat_lista = []\n",
    "p_valor_lista = []\n",
    "\n",
    "for i,n in zip(amostras_solos_horta, amostras_solos_fito):\n",
    "    t_stat, p_valor = stats.ttest_ind(i,n)\n",
    "    t_stat_lista.append(t_stat)\n",
    "    p_valor_lista.append(p_valor)\n",
    "\n",
    "print(t_stat_lista)\n",
    "print()\n",
    "print(p_valor_lista)"
   ]
  },
  {
   "cell_type": "code",
   "execution_count": 21,
   "metadata": {},
   "outputs": [
    {
     "name": "stdout",
     "output_type": "stream",
     "text": [
      "Como pvalor = 0.019 < significância, rejeitamos a hipótese nula.\n",
      "Como pvalor = 0.047 < significância, rejeitamos a hipótese nula.\n",
      "Como pvalor = 0.053 > significância, devemos aceitar a hipótese nula.\n",
      "Como pvalor = 0.328 > significância, devemos aceitar a hipótese nula.\n",
      "Como pvalor = 0.252 > significância, devemos aceitar a hipótese nula.\n",
      "Como pvalor = 0.615 > significância, devemos aceitar a hipótese nula.\n",
      "Como pvalor = 0.143 > significância, devemos aceitar a hipótese nula.\n",
      "Como pvalor = 0.714 > significância, devemos aceitar a hipótese nula.\n",
      "Como pvalor = 0.953 > significância, devemos aceitar a hipótese nula.\n",
      "Como pvalor = 0.233 > significância, devemos aceitar a hipótese nula.\n",
      "Como pvalor = 0.432 > significância, devemos aceitar a hipótese nula.\n",
      "Como pvalor = 0.183 > significância, devemos aceitar a hipótese nula.\n"
     ]
    }
   ],
   "source": [
    "hipoteses = []\n",
    "\n",
    "for i in p_valor_lista:\n",
    "    hipotese = valor_signif(i, significancia)\n",
    "    hipoteses.append(hipotese)"
   ]
  },
  {
   "cell_type": "code",
   "execution_count": 22,
   "metadata": {},
   "outputs": [
    {
     "data": {
      "text/html": [
       "<div>\n",
       "<style scoped>\n",
       "    .dataframe tbody tr th:only-of-type {\n",
       "        vertical-align: middle;\n",
       "    }\n",
       "\n",
       "    .dataframe tbody tr th {\n",
       "        vertical-align: top;\n",
       "    }\n",
       "\n",
       "    .dataframe thead th {\n",
       "        text-align: right;\n",
       "    }\n",
       "</style>\n",
       "<table border=\"1\" class=\"dataframe\">\n",
       "  <thead>\n",
       "    <tr style=\"text-align: right;\">\n",
       "      <th></th>\n",
       "      <th>Amostra</th>\n",
       "      <th>Massa (g)</th>\n",
       "      <th>Volume (mL)</th>\n",
       "      <th>Absorbância (470 nm)</th>\n",
       "      <th>Absorbância (645 nm)</th>\n",
       "      <th>Absorbância (663 nm)</th>\n",
       "      <th>Clorofila a (mg/g)</th>\n",
       "      <th>Clorofila b (mg/g)</th>\n",
       "      <th>Clorofilas a+b (mg/g)</th>\n",
       "      <th>Carotenoides (mg/g)</th>\n",
       "    </tr>\n",
       "  </thead>\n",
       "  <tbody>\n",
       "    <tr>\n",
       "      <th>0</th>\n",
       "      <td>NaN</td>\n",
       "      <td>NaN</td>\n",
       "      <td>NaN</td>\n",
       "      <td>NaN</td>\n",
       "      <td>NaN</td>\n",
       "      <td>NaN</td>\n",
       "      <td>NaN</td>\n",
       "      <td>NaN</td>\n",
       "      <td>NaN</td>\n",
       "      <td>NaN</td>\n",
       "    </tr>\n",
       "    <tr>\n",
       "      <th>1</th>\n",
       "      <td>F1</td>\n",
       "      <td>0.130000</td>\n",
       "      <td>10.0</td>\n",
       "      <td>1.290000</td>\n",
       "      <td>0.613000</td>\n",
       "      <td>1.388000</td>\n",
       "      <td>1.235976</td>\n",
       "      <td>0.580268</td>\n",
       "      <td>1.816244</td>\n",
       "      <td>0.411693</td>\n",
       "    </tr>\n",
       "    <tr>\n",
       "      <th>2</th>\n",
       "      <td>F2</td>\n",
       "      <td>0.110000</td>\n",
       "      <td>10.0</td>\n",
       "      <td>1.083000</td>\n",
       "      <td>0.511000</td>\n",
       "      <td>1.160000</td>\n",
       "      <td>1.221065</td>\n",
       "      <td>0.570407</td>\n",
       "      <td>1.791472</td>\n",
       "      <td>0.404797</td>\n",
       "    </tr>\n",
       "    <tr>\n",
       "      <th>3</th>\n",
       "      <td>F3</td>\n",
       "      <td>0.130000</td>\n",
       "      <td>10.0</td>\n",
       "      <td>0.937000</td>\n",
       "      <td>0.446000</td>\n",
       "      <td>0.973000</td>\n",
       "      <td>0.863186</td>\n",
       "      <td>0.435428</td>\n",
       "      <td>1.298615</td>\n",
       "      <td>0.298587</td>\n",
       "    </tr>\n",
       "    <tr>\n",
       "      <th>4</th>\n",
       "      <td>Média</td>\n",
       "      <td>0.123333</td>\n",
       "      <td>10.0</td>\n",
       "      <td>1.103333</td>\n",
       "      <td>0.523333</td>\n",
       "      <td>1.173667</td>\n",
       "      <td>1.106742</td>\n",
       "      <td>0.528701</td>\n",
       "      <td>1.635443</td>\n",
       "      <td>0.371692</td>\n",
       "    </tr>\n",
       "    <tr>\n",
       "      <th>5</th>\n",
       "      <td>Desvio</td>\n",
       "      <td>0.011547</td>\n",
       "      <td>0.0</td>\n",
       "      <td>0.177376</td>\n",
       "      <td>0.084180</td>\n",
       "      <td>0.207837</td>\n",
       "      <td>0.211058</td>\n",
       "      <td>0.080927</td>\n",
       "      <td>0.291965</td>\n",
       "      <td>0.063405</td>\n",
       "    </tr>\n",
       "    <tr>\n",
       "      <th>6</th>\n",
       "      <td>H1</td>\n",
       "      <td>0.130000</td>\n",
       "      <td>10.0</td>\n",
       "      <td>0.777000</td>\n",
       "      <td>0.312000</td>\n",
       "      <td>0.715000</td>\n",
       "      <td>0.637440</td>\n",
       "      <td>0.292270</td>\n",
       "      <td>0.929710</td>\n",
       "      <td>0.250091</td>\n",
       "    </tr>\n",
       "    <tr>\n",
       "      <th>7</th>\n",
       "      <td>H2</td>\n",
       "      <td>0.130000</td>\n",
       "      <td>10.0</td>\n",
       "      <td>0.740000</td>\n",
       "      <td>0.290000</td>\n",
       "      <td>0.672000</td>\n",
       "      <td>0.599749</td>\n",
       "      <td>0.268997</td>\n",
       "      <td>0.868746</td>\n",
       "      <td>0.238516</td>\n",
       "    </tr>\n",
       "    <tr>\n",
       "      <th>8</th>\n",
       "      <td>H3</td>\n",
       "      <td>0.120000</td>\n",
       "      <td>10.0</td>\n",
       "      <td>0.776000</td>\n",
       "      <td>0.321000</td>\n",
       "      <td>0.743000</td>\n",
       "      <td>0.718297</td>\n",
       "      <td>0.322889</td>\n",
       "      <td>1.041187</td>\n",
       "      <td>0.269312</td>\n",
       "    </tr>\n",
       "    <tr>\n",
       "      <th>9</th>\n",
       "      <td>Média</td>\n",
       "      <td>0.126667</td>\n",
       "      <td>10.0</td>\n",
       "      <td>0.764333</td>\n",
       "      <td>0.307667</td>\n",
       "      <td>0.710000</td>\n",
       "      <td>0.651829</td>\n",
       "      <td>0.294719</td>\n",
       "      <td>0.946548</td>\n",
       "      <td>0.252640</td>\n",
       "    </tr>\n",
       "    <tr>\n",
       "      <th>10</th>\n",
       "      <td>Desvio</td>\n",
       "      <td>0.005774</td>\n",
       "      <td>0.0</td>\n",
       "      <td>0.021079</td>\n",
       "      <td>0.015948</td>\n",
       "      <td>0.035763</td>\n",
       "      <td>0.060570</td>\n",
       "      <td>0.027029</td>\n",
       "      <td>0.087445</td>\n",
       "      <td>0.015556</td>\n",
       "    </tr>\n",
       "  </tbody>\n",
       "</table>\n",
       "</div>"
      ],
      "text/plain": [
       "   Amostra  Massa (g)  Volume (mL)  Absorbância (470 nm)  \\\n",
       "0      NaN        NaN          NaN                   NaN   \n",
       "1       F1   0.130000         10.0              1.290000   \n",
       "2       F2   0.110000         10.0              1.083000   \n",
       "3       F3   0.130000         10.0              0.937000   \n",
       "4    Média   0.123333         10.0              1.103333   \n",
       "5   Desvio   0.011547          0.0              0.177376   \n",
       "6       H1   0.130000         10.0              0.777000   \n",
       "7       H2   0.130000         10.0              0.740000   \n",
       "8       H3   0.120000         10.0              0.776000   \n",
       "9    Média   0.126667         10.0              0.764333   \n",
       "10  Desvio   0.005774          0.0              0.021079   \n",
       "\n",
       "    Absorbância (645 nm)  Absorbância (663 nm)  Clorofila a (mg/g)  \\\n",
       "0                    NaN                   NaN                 NaN   \n",
       "1               0.613000              1.388000            1.235976   \n",
       "2               0.511000              1.160000            1.221065   \n",
       "3               0.446000              0.973000            0.863186   \n",
       "4               0.523333              1.173667            1.106742   \n",
       "5               0.084180              0.207837            0.211058   \n",
       "6               0.312000              0.715000            0.637440   \n",
       "7               0.290000              0.672000            0.599749   \n",
       "8               0.321000              0.743000            0.718297   \n",
       "9               0.307667              0.710000            0.651829   \n",
       "10              0.015948              0.035763            0.060570   \n",
       "\n",
       "    Clorofila b (mg/g)  Clorofilas a+b (mg/g)  Carotenoides (mg/g)  \n",
       "0                  NaN                    NaN                  NaN  \n",
       "1             0.580268               1.816244             0.411693  \n",
       "2             0.570407               1.791472             0.404797  \n",
       "3             0.435428               1.298615             0.298587  \n",
       "4             0.528701               1.635443             0.371692  \n",
       "5             0.080927               0.291965             0.063405  \n",
       "6             0.292270               0.929710             0.250091  \n",
       "7             0.268997               0.868746             0.238516  \n",
       "8             0.322889               1.041187             0.269312  \n",
       "9             0.294719               0.946548             0.252640  \n",
       "10            0.027029               0.087445             0.015556  "
      ]
     },
     "metadata": {},
     "output_type": "display_data"
    }
   ],
   "source": [
    "df2 = pd.read_excel(\"resultados_pigmentos.xlsx\")\n",
    "display(df2)"
   ]
  },
  {
   "cell_type": "code",
   "execution_count": 23,
   "metadata": {},
   "outputs": [],
   "source": [
    "medias_pigmentos_horta = (df2.iloc[9][6:10].tolist())\n",
    "medias_pigmentos_horta = [round(x, 2) for x in medias_pigmentos_horta]\n",
    "dp_pigmentos_horta = (df2.iloc[10][6:10].tolist())\n",
    "dp_pigmentos_horta = [round(x, 2) for x in dp_pigmentos_horta]\n",
    "medias_pigmentos_fito = (df2.iloc[4][6:10].tolist())\n",
    "medias_pigmentos_fito = [round(x, 2) for x in medias_pigmentos_fito]\n",
    "dp_pigmentos_fito = (df2.iloc[5][6:10].tolist())\n",
    "dp_pigmentos_fito = [round(x, 2) for x in dp_pigmentos_fito]"
   ]
  },
  {
   "cell_type": "code",
   "execution_count": 24,
   "metadata": {},
   "outputs": [],
   "source": [
    "amostras_pigmentos_horta = []\n",
    "amostras_pigmentos_fito = []\n",
    "\n",
    "for (i, n, x, y) in zip(medias_pigmentos_horta,dp_pigmentos_horta, medias_pigmentos_fito, dp_pigmentos_fito):\n",
    "    pigmento_horta = np.random.normal(i,n,3)\n",
    "    amostras_pigmentos_horta.append(pigmento_horta)\n",
    "    pigmento_fito = np.random.normal(x,y,3)\n",
    "    amostras_pigmentos_fito.append(pigmento_fito)"
   ]
  },
  {
   "cell_type": "code",
   "execution_count": 25,
   "metadata": {},
   "outputs": [
    {
     "name": "stdout",
     "output_type": "stream",
     "text": [
      "[np.float64(-8.4988198933405), np.float64(-9.21996657417924), np.float64(-4.360931177065503), np.float64(-2.129689380340814)]\n",
      "\n",
      "[np.float64(0.001051136124150468), np.float64(0.0007689883518091948), np.float64(0.01205333795131178), np.float64(0.10024292747271767)]\n"
     ]
    }
   ],
   "source": [
    "t_stat_lista2 = []\n",
    "p_valor_lista2 = []\n",
    "\n",
    "for i,n in zip(amostras_pigmentos_horta, amostras_pigmentos_fito):\n",
    "    t_stat2, p_valor2 = stats.ttest_ind(i,n)\n",
    "    t_stat_lista2.append(t_stat2)\n",
    "    p_valor_lista2.append(p_valor2)\n",
    "\n",
    "print(t_stat_lista2)\n",
    "print()\n",
    "print(p_valor_lista2)"
   ]
  },
  {
   "cell_type": "code",
   "execution_count": 26,
   "metadata": {},
   "outputs": [
    {
     "name": "stdout",
     "output_type": "stream",
     "text": [
      "Como pvalor = 0.001 < significância, rejeitamos a hipótese nula.\n",
      "Como pvalor = 0.001 < significância, rejeitamos a hipótese nula.\n",
      "Como pvalor = 0.012 < significância, rejeitamos a hipótese nula.\n",
      "Como pvalor = 0.100 > significância, devemos aceitar a hipótese nula.\n"
     ]
    }
   ],
   "source": [
    "hipoteses2 = []\n",
    "\n",
    "for i in p_valor_lista2:\n",
    "    hipotese2 = valor_signif(i, significancia)\n",
    "    hipoteses2.append(hipotese2)"
   ]
  },
  {
   "cell_type": "code",
   "execution_count": 27,
   "metadata": {},
   "outputs": [
    {
     "data": {
      "text/html": [
       "<div>\n",
       "<style scoped>\n",
       "    .dataframe tbody tr th:only-of-type {\n",
       "        vertical-align: middle;\n",
       "    }\n",
       "\n",
       "    .dataframe tbody tr th {\n",
       "        vertical-align: top;\n",
       "    }\n",
       "\n",
       "    .dataframe thead th {\n",
       "        text-align: right;\n",
       "    }\n",
       "</style>\n",
       "<table border=\"1\" class=\"dataframe\">\n",
       "  <thead>\n",
       "    <tr style=\"text-align: right;\">\n",
       "      <th></th>\n",
       "      <th>Planta</th>\n",
       "      <th>Raiz (cm)</th>\n",
       "      <th>Caule (cm)</th>\n",
       "      <th>Unnamed: 3</th>\n",
       "      <th>Unnamed: 4</th>\n",
       "      <th>Unnamed: 5</th>\n",
       "      <th>Unnamed: 6</th>\n",
       "    </tr>\n",
       "  </thead>\n",
       "  <tbody>\n",
       "    <tr>\n",
       "      <th>0</th>\n",
       "      <td>1 Horta</td>\n",
       "      <td>33</td>\n",
       "      <td>68</td>\n",
       "      <td>NaN</td>\n",
       "      <td>NaN</td>\n",
       "      <td>NaN</td>\n",
       "      <td>NaN</td>\n",
       "    </tr>\n",
       "    <tr>\n",
       "      <th>1</th>\n",
       "      <td>2 Horta</td>\n",
       "      <td>16</td>\n",
       "      <td>96</td>\n",
       "      <td>NaN</td>\n",
       "      <td>NaN</td>\n",
       "      <td>DP Raiz Horta</td>\n",
       "      <td>10.115994</td>\n",
       "    </tr>\n",
       "    <tr>\n",
       "      <th>2</th>\n",
       "      <td>3 Horta</td>\n",
       "      <td>15</td>\n",
       "      <td>105</td>\n",
       "      <td>NaN</td>\n",
       "      <td>NaN</td>\n",
       "      <td>DP Raiz Fitotron</td>\n",
       "      <td>12.789318</td>\n",
       "    </tr>\n",
       "    <tr>\n",
       "      <th>3</th>\n",
       "      <td>1 Fitotron</td>\n",
       "      <td>15</td>\n",
       "      <td>97</td>\n",
       "      <td>NaN</td>\n",
       "      <td>NaN</td>\n",
       "      <td>DP Caule Horta</td>\n",
       "      <td>19.295941</td>\n",
       "    </tr>\n",
       "    <tr>\n",
       "      <th>4</th>\n",
       "      <td>2 Fitotron</td>\n",
       "      <td>9</td>\n",
       "      <td>94</td>\n",
       "      <td>NaN</td>\n",
       "      <td>NaN</td>\n",
       "      <td>DP Caule Fitotron</td>\n",
       "      <td>10.157099</td>\n",
       "    </tr>\n",
       "    <tr>\n",
       "      <th>5</th>\n",
       "      <td>3 Fitotron</td>\n",
       "      <td>12</td>\n",
       "      <td>104</td>\n",
       "      <td>NaN</td>\n",
       "      <td>NaN</td>\n",
       "      <td>NaN</td>\n",
       "      <td>NaN</td>\n",
       "    </tr>\n",
       "    <tr>\n",
       "      <th>6</th>\n",
       "      <td>4 Fitotron</td>\n",
       "      <td>17</td>\n",
       "      <td>96</td>\n",
       "      <td>NaN</td>\n",
       "      <td>NaN</td>\n",
       "      <td>Média Raiz Horta</td>\n",
       "      <td>21.333333</td>\n",
       "    </tr>\n",
       "    <tr>\n",
       "      <th>7</th>\n",
       "      <td>5 Fitotron</td>\n",
       "      <td>20</td>\n",
       "      <td>100</td>\n",
       "      <td>NaN</td>\n",
       "      <td>NaN</td>\n",
       "      <td>Média Raiz Fitotron</td>\n",
       "      <td>20.700000</td>\n",
       "    </tr>\n",
       "    <tr>\n",
       "      <th>8</th>\n",
       "      <td>6 Fitotron</td>\n",
       "      <td>14</td>\n",
       "      <td>101</td>\n",
       "      <td>NaN</td>\n",
       "      <td>NaN</td>\n",
       "      <td>Média Caule Horta</td>\n",
       "      <td>89.666667</td>\n",
       "    </tr>\n",
       "    <tr>\n",
       "      <th>9</th>\n",
       "      <td>7 Fitotron</td>\n",
       "      <td>26</td>\n",
       "      <td>98</td>\n",
       "      <td>NaN</td>\n",
       "      <td>NaN</td>\n",
       "      <td>Média Caule Fitotron</td>\n",
       "      <td>94.500000</td>\n",
       "    </tr>\n",
       "    <tr>\n",
       "      <th>10</th>\n",
       "      <td>8 Fitotron</td>\n",
       "      <td>51</td>\n",
       "      <td>72</td>\n",
       "      <td>NaN</td>\n",
       "      <td>NaN</td>\n",
       "      <td>NaN</td>\n",
       "      <td>NaN</td>\n",
       "    </tr>\n",
       "    <tr>\n",
       "      <th>11</th>\n",
       "      <td>9 Fitotron</td>\n",
       "      <td>32</td>\n",
       "      <td>81</td>\n",
       "      <td>NaN</td>\n",
       "      <td>NaN</td>\n",
       "      <td>NaN</td>\n",
       "      <td>NaN</td>\n",
       "    </tr>\n",
       "    <tr>\n",
       "      <th>12</th>\n",
       "      <td>10 Fitotron</td>\n",
       "      <td>11</td>\n",
       "      <td>102</td>\n",
       "      <td>NaN</td>\n",
       "      <td>NaN</td>\n",
       "      <td>NaN</td>\n",
       "      <td>NaN</td>\n",
       "    </tr>\n",
       "  </tbody>\n",
       "</table>\n",
       "</div>"
      ],
      "text/plain": [
       "         Planta  Raiz (cm)  Caule (cm)  Unnamed: 3  Unnamed: 4  \\\n",
       "0       1 Horta         33          68         NaN         NaN   \n",
       "1       2 Horta         16          96         NaN         NaN   \n",
       "2       3 Horta         15         105         NaN         NaN   \n",
       "3    1 Fitotron         15          97         NaN         NaN   \n",
       "4    2 Fitotron          9          94         NaN         NaN   \n",
       "5    3 Fitotron         12         104         NaN         NaN   \n",
       "6    4 Fitotron         17          96         NaN         NaN   \n",
       "7    5 Fitotron         20         100         NaN         NaN   \n",
       "8    6 Fitotron         14         101         NaN         NaN   \n",
       "9    7 Fitotron         26          98         NaN         NaN   \n",
       "10   8 Fitotron         51          72         NaN         NaN   \n",
       "11   9 Fitotron         32          81         NaN         NaN   \n",
       "12  10 Fitotron         11         102         NaN         NaN   \n",
       "\n",
       "              Unnamed: 5  Unnamed: 6  \n",
       "0                    NaN         NaN  \n",
       "1          DP Raiz Horta   10.115994  \n",
       "2       DP Raiz Fitotron   12.789318  \n",
       "3         DP Caule Horta   19.295941  \n",
       "4      DP Caule Fitotron   10.157099  \n",
       "5                    NaN         NaN  \n",
       "6       Média Raiz Horta   21.333333  \n",
       "7    Média Raiz Fitotron   20.700000  \n",
       "8      Média Caule Horta   89.666667  \n",
       "9   Média Caule Fitotron   94.500000  \n",
       "10                   NaN         NaN  \n",
       "11                   NaN         NaN  \n",
       "12                   NaN         NaN  "
      ]
     },
     "metadata": {},
     "output_type": "display_data"
    }
   ],
   "source": [
    "df_raizes = pd.read_excel(\"Raízes.xlsx\")\n",
    "display(df_raizes)"
   ]
  },
  {
   "cell_type": "code",
   "execution_count": 28,
   "metadata": {},
   "outputs": [],
   "source": [
    "medias_raizes = [21.33, 20.70]\n",
    "medias_caules = [89.66, 94.50]\n",
    "dp_raizes = [10.11, 12.78]\n",
    "dp_caules = [19.29, 10.15]\n",
    "n_amostras_rh = 3\n",
    "n_amostras_rf = 10"
   ]
  },
  {
   "cell_type": "code",
   "execution_count": 29,
   "metadata": {},
   "outputs": [],
   "source": [
    "amostras_raiz_horta = []\n",
    "amostras_raiz_fito = []\n",
    "\n",
    "for (i, n, x, y) in zip(medias_raizes,dp_raizes, medias_caules, dp_caules):\n",
    "    raizes_horta = np.random.normal(i,n,n_amostras_rh)\n",
    "    amostras_raiz_horta.append(raizes_horta)\n",
    "    raizes_fito = np.random.normal(x,y,n_amostras_rf)\n",
    "    amostras_raiz_fito.append(raizes_fito)"
   ]
  },
  {
   "cell_type": "code",
   "execution_count": 30,
   "metadata": {},
   "outputs": [
    {
     "name": "stdout",
     "output_type": "stream",
     "text": [
      "[np.float64(-6.53915223582191), np.float64(-10.452250612990966)]\n",
      "\n",
      "[np.float64(4.1970851470409066e-05), np.float64(4.7436122102113623e-07)]\n"
     ]
    }
   ],
   "source": [
    "t_stat_lista3 = []\n",
    "p_valor_lista3 = []\n",
    "\n",
    "for i,n in zip(amostras_raiz_horta, amostras_raiz_fito):\n",
    "    t_stat3, p_valor3 = stats.ttest_ind(i,n)\n",
    "    t_stat_lista3.append(t_stat3)\n",
    "    p_valor_lista3.append(p_valor3)\n",
    "\n",
    "print(t_stat_lista3)\n",
    "print()\n",
    "print(p_valor_lista3)"
   ]
  },
  {
   "cell_type": "code",
   "execution_count": 31,
   "metadata": {},
   "outputs": [
    {
     "name": "stdout",
     "output_type": "stream",
     "text": [
      "Como pvalor = 0.000 < significância, rejeitamos a hipótese nula.\n",
      "Como pvalor = 0.000 < significância, rejeitamos a hipótese nula.\n"
     ]
    }
   ],
   "source": [
    "hipoteses3 = []\n",
    "\n",
    "for i in p_valor_lista3:\n",
    "    hipotese3 = valor_signif(i, significancia)\n",
    "    hipoteses3.append(hipotese3)"
   ]
  },
  {
   "cell_type": "code",
   "execution_count": null,
   "metadata": {},
   "outputs": [],
   "source": []
  }
 ],
 "metadata": {
  "kernelspec": {
   "display_name": "Python 3",
   "language": "python",
   "name": "python3"
  },
  "language_info": {
   "codemirror_mode": {
    "name": "ipython",
    "version": 3
   },
   "file_extension": ".py",
   "mimetype": "text/x-python",
   "name": "python",
   "nbconvert_exporter": "python",
   "pygments_lexer": "ipython3",
   "version": "3.10.12"
  },
  "orig_nbformat": 4
 },
 "nbformat": 4,
 "nbformat_minor": 2
}
