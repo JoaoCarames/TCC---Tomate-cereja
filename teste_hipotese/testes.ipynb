{
 "cells": [
  {
   "cell_type": "markdown",
   "metadata": {},
   "source": [
    "<div style=\"text-align: justify; padding: 20px; background-color: #000000; color: #ffffff; border-radius: 10px;\">\n",
    "\n",
    "# **Teste de hipóteses entre tomates da horta e da Fitotron**  \n",
    "### **Autor: Pedro Thomazelli Ferreira**\n",
    "📅 **Última modificação:** 21 de Novembro de 2024  \n",
    "\n",
    "---\n",
    "\n",
    "## **Trabalho principal: Impacto das mudanças climáticas no cultivo e consumo do tomate-cereja**\n",
    "### **Autores principais: Ana Clara Batista Loponi e João Guilherme dos Santos Caramês**  \n",
    "\n",
    "---\n",
    "\n",
    "### **Resumo**  \n",
    "<p style=\"text-align: justify; margin: 10px 50px;\">\n",
    "Nesse notebook, são feitos cálculos para determinação dos valores <b> p </b>, que visam confirmar hipóteses sobre caraceterísticas dos tomates em temperaturas diferentes. Na Fitotron, a temperatura é aquela que se que será atingida em 2050.\n",
    "</p>\n",
    "\n",
    "---\n",
    "\n",
    "### **Palavras-chave**  \n",
    "🔑 *Teste de hipótese, alimento, mudanças climáticas, segurança alimentar, cultivo, consumo, análise de alimentos*  \n",
    "\n",
    "</div>"
   ]
  },
  {
   "cell_type": "markdown",
   "metadata": {},
   "source": [
    "### Importações"
   ]
  },
  {
   "cell_type": "code",
   "execution_count": 29,
   "metadata": {},
   "outputs": [],
   "source": [
    "import numpy as np\n",
    "import pandas as pd\n",
    "import matplotlib.pyplot as plt\n",
    "import seaborn as sns\n",
    "import scikit_posthocs as sp\n",
    "from itertools import combinations\n",
    "from scipy import stats"
   ]
  },
  {
   "cell_type": "markdown",
   "metadata": {},
   "source": [
    "### Definindo variáveis"
   ]
  },
  {
   "cell_type": "code",
   "execution_count": 30,
   "metadata": {},
   "outputs": [],
   "source": [
    "nivel_confianca = 0.95\n",
    "\n",
    "significancia = 1 - nivel_confianca"
   ]
  },
  {
   "cell_type": "markdown",
   "metadata": {},
   "source": [
    "### Função que recebe valor de significância"
   ]
  },
  {
   "cell_type": "code",
   "execution_count": 31,
   "metadata": {},
   "outputs": [],
   "source": [
    "def valor_signif (pvalor, significancia):\n",
    "    if pvalor < significancia:\n",
    "        print(f'Como {pvalor = :.3f} < significância, rejeitamos a hipótese nula.')\n",
    "    else:\n",
    "        print(f'Como {pvalor = :.3f} > significância, devemos aceitar a hipótese nula.')"
   ]
  },
  {
   "cell_type": "code",
   "execution_count": 32,
   "metadata": {},
   "outputs": [
    {
     "data": {
      "text/html": [
       "<div>\n",
       "<style scoped>\n",
       "    .dataframe tbody tr th:only-of-type {\n",
       "        vertical-align: middle;\n",
       "    }\n",
       "\n",
       "    .dataframe tbody tr th {\n",
       "        vertical-align: top;\n",
       "    }\n",
       "\n",
       "    .dataframe thead th {\n",
       "        text-align: right;\n",
       "    }\n",
       "</style>\n",
       "<table border=\"1\" class=\"dataframe\">\n",
       "  <thead>\n",
       "    <tr style=\"text-align: right;\">\n",
       "      <th></th>\n",
       "      <th>Amostra</th>\n",
       "      <th>N (g/kg)</th>\n",
       "      <th>P (g/kg)</th>\n",
       "      <th>K (g/kg)</th>\n",
       "      <th>Ca (g/kg)</th>\n",
       "      <th>Mg (g/kg)</th>\n",
       "      <th>S (g/kg)</th>\n",
       "      <th>B (mg/kg)</th>\n",
       "      <th>Cu (mg/kg)</th>\n",
       "      <th>Fe (g/kg)</th>\n",
       "      <th>Mn (mg/kg)</th>\n",
       "      <th>Zn (mg/kg)</th>\n",
       "      <th>Na (mg/kg)</th>\n",
       "    </tr>\n",
       "  </thead>\n",
       "  <tbody>\n",
       "    <tr>\n",
       "      <th>0</th>\n",
       "      <td>Inicial 1</td>\n",
       "      <td>6.400000</td>\n",
       "      <td>1.500000</td>\n",
       "      <td>2.300000</td>\n",
       "      <td>3.600000</td>\n",
       "      <td>1.300000</td>\n",
       "      <td>1.300000</td>\n",
       "      <td>62.200000</td>\n",
       "      <td>23.400000</td>\n",
       "      <td>8.800000</td>\n",
       "      <td>126.300000</td>\n",
       "      <td>52.300000</td>\n",
       "      <td>430.000000</td>\n",
       "    </tr>\n",
       "    <tr>\n",
       "      <th>1</th>\n",
       "      <td>Inicial 2</td>\n",
       "      <td>4.400000</td>\n",
       "      <td>1.500000</td>\n",
       "      <td>2.600000</td>\n",
       "      <td>3.900000</td>\n",
       "      <td>1.500000</td>\n",
       "      <td>1.300000</td>\n",
       "      <td>57.300000</td>\n",
       "      <td>22.900000</td>\n",
       "      <td>9.400000</td>\n",
       "      <td>128.000000</td>\n",
       "      <td>55.700000</td>\n",
       "      <td>476.000000</td>\n",
       "    </tr>\n",
       "    <tr>\n",
       "      <th>2</th>\n",
       "      <td>Inicial 3</td>\n",
       "      <td>3.700000</td>\n",
       "      <td>1.300000</td>\n",
       "      <td>2.300000</td>\n",
       "      <td>3.600000</td>\n",
       "      <td>1.400000</td>\n",
       "      <td>1.000000</td>\n",
       "      <td>52.700000</td>\n",
       "      <td>21.700000</td>\n",
       "      <td>8.600000</td>\n",
       "      <td>129.600000</td>\n",
       "      <td>45.900000</td>\n",
       "      <td>441.000000</td>\n",
       "    </tr>\n",
       "    <tr>\n",
       "      <th>3</th>\n",
       "      <td>Fitotron 1</td>\n",
       "      <td>4.600000</td>\n",
       "      <td>0.900000</td>\n",
       "      <td>1.600000</td>\n",
       "      <td>2.500000</td>\n",
       "      <td>1.100000</td>\n",
       "      <td>0.500000</td>\n",
       "      <td>35.400000</td>\n",
       "      <td>17.900000</td>\n",
       "      <td>9.400000</td>\n",
       "      <td>94.700000</td>\n",
       "      <td>37.000000</td>\n",
       "      <td>200.100000</td>\n",
       "    </tr>\n",
       "    <tr>\n",
       "      <th>4</th>\n",
       "      <td>Fitotron 2</td>\n",
       "      <td>4.900000</td>\n",
       "      <td>1.500000</td>\n",
       "      <td>2.100000</td>\n",
       "      <td>3.800000</td>\n",
       "      <td>1.400000</td>\n",
       "      <td>0.800000</td>\n",
       "      <td>38.700000</td>\n",
       "      <td>22.900000</td>\n",
       "      <td>10.000000</td>\n",
       "      <td>219.200000</td>\n",
       "      <td>56.400000</td>\n",
       "      <td>235.900000</td>\n",
       "    </tr>\n",
       "    <tr>\n",
       "      <th>5</th>\n",
       "      <td>Fitotron 3</td>\n",
       "      <td>6.000000</td>\n",
       "      <td>1.300000</td>\n",
       "      <td>2.000000</td>\n",
       "      <td>2.900000</td>\n",
       "      <td>1.200000</td>\n",
       "      <td>0.600000</td>\n",
       "      <td>33.200000</td>\n",
       "      <td>21.400000</td>\n",
       "      <td>8.700000</td>\n",
       "      <td>98.700000</td>\n",
       "      <td>46.700000</td>\n",
       "      <td>226.800000</td>\n",
       "    </tr>\n",
       "    <tr>\n",
       "      <th>6</th>\n",
       "      <td>Horta 1</td>\n",
       "      <td>4.300000</td>\n",
       "      <td>1.000000</td>\n",
       "      <td>1.500000</td>\n",
       "      <td>2.300000</td>\n",
       "      <td>1.000000</td>\n",
       "      <td>0.500000</td>\n",
       "      <td>28.000000</td>\n",
       "      <td>18.300000</td>\n",
       "      <td>7.700000</td>\n",
       "      <td>89.700000</td>\n",
       "      <td>41.700000</td>\n",
       "      <td>198.900000</td>\n",
       "    </tr>\n",
       "    <tr>\n",
       "      <th>7</th>\n",
       "      <td>Horta 2</td>\n",
       "      <td>4.500000</td>\n",
       "      <td>1.100000</td>\n",
       "      <td>1.900000</td>\n",
       "      <td>3.700000</td>\n",
       "      <td>1.600000</td>\n",
       "      <td>0.600000</td>\n",
       "      <td>29.800000</td>\n",
       "      <td>21.600000</td>\n",
       "      <td>8.000000</td>\n",
       "      <td>101.500000</td>\n",
       "      <td>45.700000</td>\n",
       "      <td>295.700000</td>\n",
       "    </tr>\n",
       "    <tr>\n",
       "      <th>8</th>\n",
       "      <td>Horta 3</td>\n",
       "      <td>5.500000</td>\n",
       "      <td>1.100000</td>\n",
       "      <td>1.600000</td>\n",
       "      <td>3.200000</td>\n",
       "      <td>1.400000</td>\n",
       "      <td>0.600000</td>\n",
       "      <td>30.000000</td>\n",
       "      <td>19.200000</td>\n",
       "      <td>8.700000</td>\n",
       "      <td>109.300000</td>\n",
       "      <td>43.500000</td>\n",
       "      <td>200.200000</td>\n",
       "    </tr>\n",
       "    <tr>\n",
       "      <th>9</th>\n",
       "      <td>NaN</td>\n",
       "      <td>NaN</td>\n",
       "      <td>NaN</td>\n",
       "      <td>NaN</td>\n",
       "      <td>NaN</td>\n",
       "      <td>NaN</td>\n",
       "      <td>NaN</td>\n",
       "      <td>NaN</td>\n",
       "      <td>NaN</td>\n",
       "      <td>NaN</td>\n",
       "      <td>NaN</td>\n",
       "      <td>NaN</td>\n",
       "      <td>NaN</td>\n",
       "    </tr>\n",
       "    <tr>\n",
       "      <th>10</th>\n",
       "      <td>Desvio Padrão Inicial</td>\n",
       "      <td>1.401190</td>\n",
       "      <td>0.115470</td>\n",
       "      <td>0.173205</td>\n",
       "      <td>0.173205</td>\n",
       "      <td>0.100000</td>\n",
       "      <td>0.173205</td>\n",
       "      <td>4.750789</td>\n",
       "      <td>0.873689</td>\n",
       "      <td>0.416333</td>\n",
       "      <td>1.650253</td>\n",
       "      <td>4.975942</td>\n",
       "      <td>24.020824</td>\n",
       "    </tr>\n",
       "    <tr>\n",
       "      <th>11</th>\n",
       "      <td>Desvio Padrão Fitotron</td>\n",
       "      <td>0.737111</td>\n",
       "      <td>0.305505</td>\n",
       "      <td>0.264575</td>\n",
       "      <td>0.665833</td>\n",
       "      <td>0.152753</td>\n",
       "      <td>0.152753</td>\n",
       "      <td>2.768273</td>\n",
       "      <td>2.565801</td>\n",
       "      <td>0.650641</td>\n",
       "      <td>70.753681</td>\n",
       "      <td>9.700000</td>\n",
       "      <td>18.607078</td>\n",
       "    </tr>\n",
       "    <tr>\n",
       "      <th>12</th>\n",
       "      <td>Desvio Padrão Horta</td>\n",
       "      <td>0.642910</td>\n",
       "      <td>0.057735</td>\n",
       "      <td>0.208167</td>\n",
       "      <td>0.709460</td>\n",
       "      <td>0.305505</td>\n",
       "      <td>0.057735</td>\n",
       "      <td>1.101514</td>\n",
       "      <td>1.705872</td>\n",
       "      <td>0.513160</td>\n",
       "      <td>9.867793</td>\n",
       "      <td>2.003331</td>\n",
       "      <td>55.516034</td>\n",
       "    </tr>\n",
       "    <tr>\n",
       "      <th>13</th>\n",
       "      <td>NaN</td>\n",
       "      <td>NaN</td>\n",
       "      <td>NaN</td>\n",
       "      <td>NaN</td>\n",
       "      <td>NaN</td>\n",
       "      <td>NaN</td>\n",
       "      <td>NaN</td>\n",
       "      <td>NaN</td>\n",
       "      <td>NaN</td>\n",
       "      <td>NaN</td>\n",
       "      <td>NaN</td>\n",
       "      <td>NaN</td>\n",
       "      <td>NaN</td>\n",
       "    </tr>\n",
       "    <tr>\n",
       "      <th>14</th>\n",
       "      <td>Média Inicial</td>\n",
       "      <td>4.833333</td>\n",
       "      <td>1.433333</td>\n",
       "      <td>2.400000</td>\n",
       "      <td>3.700000</td>\n",
       "      <td>1.400000</td>\n",
       "      <td>1.200000</td>\n",
       "      <td>57.400000</td>\n",
       "      <td>22.666667</td>\n",
       "      <td>8.933333</td>\n",
       "      <td>127.966667</td>\n",
       "      <td>51.300000</td>\n",
       "      <td>449.000000</td>\n",
       "    </tr>\n",
       "    <tr>\n",
       "      <th>15</th>\n",
       "      <td>Média Fitotron</td>\n",
       "      <td>5.166667</td>\n",
       "      <td>1.233333</td>\n",
       "      <td>1.900000</td>\n",
       "      <td>3.066667</td>\n",
       "      <td>1.233333</td>\n",
       "      <td>0.633333</td>\n",
       "      <td>35.766667</td>\n",
       "      <td>20.733333</td>\n",
       "      <td>9.366667</td>\n",
       "      <td>137.533333</td>\n",
       "      <td>46.700000</td>\n",
       "      <td>220.933333</td>\n",
       "    </tr>\n",
       "    <tr>\n",
       "      <th>16</th>\n",
       "      <td>Média Horta</td>\n",
       "      <td>4.766667</td>\n",
       "      <td>1.066667</td>\n",
       "      <td>1.666667</td>\n",
       "      <td>3.066667</td>\n",
       "      <td>1.333333</td>\n",
       "      <td>0.566667</td>\n",
       "      <td>29.266667</td>\n",
       "      <td>19.700000</td>\n",
       "      <td>8.133333</td>\n",
       "      <td>100.166667</td>\n",
       "      <td>43.633333</td>\n",
       "      <td>231.600000</td>\n",
       "    </tr>\n",
       "  </tbody>\n",
       "</table>\n",
       "</div>"
      ],
      "text/plain": [
       "                   Amostra  N (g/kg)  P (g/kg)  K (g/kg)  Ca (g/kg)  \\\n",
       "0                Inicial 1  6.400000  1.500000  2.300000   3.600000   \n",
       "1                Inicial 2  4.400000  1.500000  2.600000   3.900000   \n",
       "2                Inicial 3  3.700000  1.300000  2.300000   3.600000   \n",
       "3               Fitotron 1  4.600000  0.900000  1.600000   2.500000   \n",
       "4               Fitotron 2  4.900000  1.500000  2.100000   3.800000   \n",
       "5               Fitotron 3  6.000000  1.300000  2.000000   2.900000   \n",
       "6                  Horta 1  4.300000  1.000000  1.500000   2.300000   \n",
       "7                  Horta 2  4.500000  1.100000  1.900000   3.700000   \n",
       "8                  Horta 3  5.500000  1.100000  1.600000   3.200000   \n",
       "9                      NaN       NaN       NaN       NaN        NaN   \n",
       "10   Desvio Padrão Inicial  1.401190  0.115470  0.173205   0.173205   \n",
       "11  Desvio Padrão Fitotron  0.737111  0.305505  0.264575   0.665833   \n",
       "12     Desvio Padrão Horta  0.642910  0.057735  0.208167   0.709460   \n",
       "13                     NaN       NaN       NaN       NaN        NaN   \n",
       "14           Média Inicial  4.833333  1.433333  2.400000   3.700000   \n",
       "15          Média Fitotron  5.166667  1.233333  1.900000   3.066667   \n",
       "16             Média Horta  4.766667  1.066667  1.666667   3.066667   \n",
       "\n",
       "    Mg (g/kg)  S (g/kg)  B (mg/kg)  Cu (mg/kg)  Fe (g/kg)  Mn (mg/kg)  \\\n",
       "0    1.300000  1.300000  62.200000   23.400000   8.800000  126.300000   \n",
       "1    1.500000  1.300000  57.300000   22.900000   9.400000  128.000000   \n",
       "2    1.400000  1.000000  52.700000   21.700000   8.600000  129.600000   \n",
       "3    1.100000  0.500000  35.400000   17.900000   9.400000   94.700000   \n",
       "4    1.400000  0.800000  38.700000   22.900000  10.000000  219.200000   \n",
       "5    1.200000  0.600000  33.200000   21.400000   8.700000   98.700000   \n",
       "6    1.000000  0.500000  28.000000   18.300000   7.700000   89.700000   \n",
       "7    1.600000  0.600000  29.800000   21.600000   8.000000  101.500000   \n",
       "8    1.400000  0.600000  30.000000   19.200000   8.700000  109.300000   \n",
       "9         NaN       NaN        NaN         NaN        NaN         NaN   \n",
       "10   0.100000  0.173205   4.750789    0.873689   0.416333    1.650253   \n",
       "11   0.152753  0.152753   2.768273    2.565801   0.650641   70.753681   \n",
       "12   0.305505  0.057735   1.101514    1.705872   0.513160    9.867793   \n",
       "13        NaN       NaN        NaN         NaN        NaN         NaN   \n",
       "14   1.400000  1.200000  57.400000   22.666667   8.933333  127.966667   \n",
       "15   1.233333  0.633333  35.766667   20.733333   9.366667  137.533333   \n",
       "16   1.333333  0.566667  29.266667   19.700000   8.133333  100.166667   \n",
       "\n",
       "    Zn (mg/kg)  Na (mg/kg)  \n",
       "0    52.300000  430.000000  \n",
       "1    55.700000  476.000000  \n",
       "2    45.900000  441.000000  \n",
       "3    37.000000  200.100000  \n",
       "4    56.400000  235.900000  \n",
       "5    46.700000  226.800000  \n",
       "6    41.700000  198.900000  \n",
       "7    45.700000  295.700000  \n",
       "8    43.500000  200.200000  \n",
       "9          NaN         NaN  \n",
       "10    4.975942   24.020824  \n",
       "11    9.700000   18.607078  \n",
       "12    2.003331   55.516034  \n",
       "13         NaN         NaN  \n",
       "14   51.300000  449.000000  \n",
       "15   46.700000  220.933333  \n",
       "16   43.633333  231.600000  "
      ]
     },
     "metadata": {},
     "output_type": "display_data"
    }
   ],
   "source": [
    "df = pd.read_excel('ValoresSolos.xlsx')\n",
    "display(df)"
   ]
  },
  {
   "cell_type": "markdown",
   "metadata": {},
   "source": [
    "### Teste de Hipótese"
   ]
  },
  {
   "cell_type": "markdown",
   "metadata": {},
   "source": [
    "Aqui faremos testes para características dos tomates."
   ]
  },
  {
   "cell_type": "code",
   "execution_count": 34,
   "metadata": {},
   "outputs": [],
   "source": [
    "medias_horta = [0.82, 7.42, 89.74, 0.67, 1.02, 0.55, 1.65]\n",
    "dp_horta = [0.03, 0.87, 0.24, 0.04, 0.12, 0.16, 0.26]\n",
    "medias_fito = [0.61, 6.42, 90.92, 0.90, 1.67, 0.81, 2.79]\n",
    "dp_fito = [0.04, 0.0, 0.19, 0.03, 0.03, 0.19, 0.45]\n",
    "n_amostras_horta = 3\n",
    "n_amostras_fito = 3\n",
    "df_novo = df.drop('Amostra', axis=1)\n",
    "medias_solos_horta = (df_novo.iloc[16].tolist())\n",
    "medias_solos_horta = [round(x, 2) for x in medias_solos_horta]\n",
    "dp_solos_horta = (df_novo.iloc[12].tolist())\n",
    "dp_solos_horta = [round(x,2) for x in dp_solos_horta]\n",
    "media_solos_fito = (df_novo.iloc[15].tolist())\n",
    "media_solos_fito = [round(x,2) for x in media_solos_fito]\n",
    "dp_solos_fito = (df_novo.iloc[11].tolist())\n",
    "dp_solos_fito = [round(x,2) for x in dp_solos_fito]"
   ]
  },
  {
   "cell_type": "code",
   "execution_count": 39,
   "metadata": {},
   "outputs": [],
   "source": [
    "np.random.seed(42)\n",
    "\n",
    "amostra_acid_horta = np.random.normal(medias_horta[0], dp_horta[0], n_amostras_horta)\n",
    "amostra_acid_fito = np.random.normal(medias_fito[0], dp_fito[0], n_amostras_fito)\n",
    "\n",
    "amostra_ss_horta = np.random.normal(medias_horta[1], dp_horta[1], n_amostras_horta)\n",
    "amostra_ss_fito = np.random.normal(medias_fito[1], dp_fito[1], n_amostras_fito)\n",
    "\n",
    "amostra_u_horta = np.random.normal(medias_horta[2], dp_horta[2], n_amostras_horta)\n",
    "amostra_u_fito = np.random.normal(medias_fito[2], dp_fito[2], n_amostras_fito)\n",
    "\n",
    "amostra_c_horta = np.random.normal(medias_horta[3], dp_horta[3], n_amostras_horta)\n",
    "amostra_c_fito = np.random.normal(medias_fito[3], dp_fito[3], n_amostras_fito)\n",
    "\n",
    "amostra_p_horta = np.random.normal(medias_horta[4], dp_horta[4], n_amostras_horta)\n",
    "amostra_p_fito = np.random.normal(medias_fito[4], dp_fito[4], n_amostras_fito)\n",
    "\n",
    "amostra_l_horta = np.random.normal(medias_horta[5], dp_horta[5], n_amostras_horta)\n",
    "amostra_l_fito = np.random.normal(medias_fito[5], dp_fito[5], n_amostras_fito)\n",
    "\n",
    "amostra_vc_horta = np.random.normal(medias_horta[6], dp_horta[6], n_amostras_horta)\n",
    "amostra_vc_fito = np.random.normal(medias_fito[6], dp_fito[6], n_amostras_fito)\n",
    "\n",
    "amostra_incub1_raiz = np.random.normal(9.22, 1.84, 24)\n",
    "amostra_incub2_raiz = np.random.normal(8.22, 2.21, 25)\n",
    "amostra_fito3_raiz = np.random.normal(6.06, 1.60, 25)\n",
    "amostra_fito4_raiz = np.random.normal(8.50, 1.46, 23)\n",
    "\n",
    "amostra_incub1_caule = np.random.normal(4.80, 0.68, 24)\n",
    "amostra_incub2_caule = np.random.normal(4.70, 0.64, 25)\n",
    "amostra_fito3_caule = np.random.normal(4.24, 0.76, 25)\n",
    "amostra_fito4_caule = np.random.normal(5.43, 0.96, 23)\n",
    "\n",
    "amostra_incub_raiz = np.random.normal(8.72, 2.02, 49)\n",
    "amostra_fito_raiz = np.random.normal(7.28, 1.53, 48)\n",
    "\n",
    "amostra_incub_caule = np.random.normal(4.75, 0.66, 49)\n",
    "amostra_fito_caule = np.random.normal(4.83, 0.86, 48)"
   ]
  },
  {
   "cell_type": "code",
   "execution_count": 47,
   "metadata": {},
   "outputs": [],
   "source": [
    "amostras_solos_horta = []\n",
    "amostras_solos_fito = []\n",
    "\n",
    "for (i, n, x, y) in zip(medias_solos_horta,dp_solos_horta, media_solos_fito, dp_solos_fito):\n",
    "    amostra_horta = np.random.normal(i,n,3)\n",
    "    amostras_solos_horta.append(amostra_horta)\n",
    "    amostra_fito = np.random.normal(x,y,3)\n",
    "    amostras_solos_fito.append(amostra_fito)"
   ]
  },
  {
   "cell_type": "code",
   "execution_count": 6,
   "metadata": {},
   "outputs": [
    {
     "name": "stderr",
     "output_type": "stream",
     "text": [
      "/home/ABTLUS/pedro220058/.local/lib/python3.10/site-packages/scipy/stats/_axis_nan_policy.py:531: RuntimeWarning: Precision loss occurred in moment calculation due to catastrophic cancellation. This occurs when the data are nearly identical. Results may be unreliable.\n",
      "  res = hypotest_fun_out(*samples, **kwds)\n"
     ]
    }
   ],
   "source": [
    "t_stat_acid, p_valor_acid = stats.ttest_ind(amostra_acid_horta, amostra_acid_fito)\n",
    "t_stat_ss, p_valor_ss = stats.ttest_ind(amostra_ss_horta, amostra_ss_fito)\n",
    "t_stat_u, p_valor_u = stats.ttest_ind(amostra_u_horta, amostra_u_fito)\n",
    "t_stat_c, p_valor_c = stats.ttest_ind(amostra_c_horta, amostra_c_fito)\n",
    "t_stat_p, p_valor_p = stats.ttest_ind(amostra_p_horta, amostra_p_fito)\n",
    "t_stat_l, p_valor_l = stats.ttest_ind(amostra_l_horta, amostra_l_fito)\n",
    "t_stat_vc, p_valor_vc = stats.ttest_ind(amostra_vc_horta, amostra_vc_fito)\n",
    "t_stat_raiz, p_valor_raiz = stats.ttest_ind(amostra_incub_raiz, amostra_fito_raiz)\n",
    "t_stat_caule, p_valor_caule = stats.ttest_ind(amostra_incub_caule, amostra_fito_caule)"
   ]
  },
  {
   "cell_type": "code",
   "execution_count": 7,
   "metadata": {},
   "outputs": [
    {
     "name": "stdout",
     "output_type": "stream",
     "text": [
      "Estatística t: 8.402116650757513\n",
      "Valor p: 0.0010981403733531874\n"
     ]
    }
   ],
   "source": [
    "print(f'Estatística t: {t_stat_acid}')\n",
    "print(f'Valor p: {p_valor_acid}')"
   ]
  },
  {
   "cell_type": "code",
   "execution_count": 8,
   "metadata": {},
   "outputs": [
    {
     "name": "stdout",
     "output_type": "stream",
     "text": [
      "Como pvalor = 0.001 < significância, rejeitamos a hipótese nula.\n"
     ]
    }
   ],
   "source": [
    "valor_signif(p_valor_acid, significancia)"
   ]
  },
  {
   "cell_type": "code",
   "execution_count": 9,
   "metadata": {},
   "outputs": [
    {
     "name": "stdout",
     "output_type": "stream",
     "text": [
      "Como pvalor = 0.041 < significância, rejeitamos a hipótese nula.\n"
     ]
    }
   ],
   "source": [
    "valor_signif(p_valor_ss, significancia)"
   ]
  },
  {
   "cell_type": "code",
   "execution_count": 10,
   "metadata": {},
   "outputs": [
    {
     "name": "stdout",
     "output_type": "stream",
     "text": [
      "Como pvalor = 0.002 < significância, rejeitamos a hipótese nula.\n"
     ]
    }
   ],
   "source": [
    "valor_signif(p_valor_u, significancia)"
   ]
  },
  {
   "cell_type": "code",
   "execution_count": 11,
   "metadata": {},
   "outputs": [
    {
     "name": "stdout",
     "output_type": "stream",
     "text": [
      "Como pvalor = 0.004 < significância, rejeitamos a hipótese nula.\n"
     ]
    }
   ],
   "source": [
    "valor_signif(p_valor_c, significancia)"
   ]
  },
  {
   "cell_type": "code",
   "execution_count": 12,
   "metadata": {},
   "outputs": [
    {
     "name": "stdout",
     "output_type": "stream",
     "text": [
      "Como pvalor = 0.000 < significância, rejeitamos a hipótese nula.\n"
     ]
    }
   ],
   "source": [
    "valor_signif(p_valor_p, significancia)"
   ]
  },
  {
   "cell_type": "code",
   "execution_count": 13,
   "metadata": {},
   "outputs": [
    {
     "name": "stdout",
     "output_type": "stream",
     "text": [
      "Como pvalor = 0.000 < significância, rejeitamos a hipótese nula.\n"
     ]
    }
   ],
   "source": [
    "valor_signif(p_valor_p, significancia)"
   ]
  },
  {
   "cell_type": "code",
   "execution_count": 14,
   "metadata": {},
   "outputs": [
    {
     "name": "stdout",
     "output_type": "stream",
     "text": [
      "Como pvalor = 0.001 < significância, rejeitamos a hipótese nula.\n"
     ]
    }
   ],
   "source": [
    "valor_signif(p_valor_vc, significancia)"
   ]
  },
  {
   "cell_type": "code",
   "execution_count": 15,
   "metadata": {},
   "outputs": [
    {
     "name": "stdout",
     "output_type": "stream",
     "text": [
      "Como pvalor = 0.004 < significância, rejeitamos a hipótese nula.\n"
     ]
    }
   ],
   "source": [
    "valor_signif(p_valor_raiz, significancia)"
   ]
  },
  {
   "cell_type": "code",
   "execution_count": 16,
   "metadata": {},
   "outputs": [
    {
     "name": "stdout",
     "output_type": "stream",
     "text": [
      "Como pvalor = 0.321 > significância, devemos aceitar a hipótese nula.\n"
     ]
    }
   ],
   "source": [
    "valor_signif(p_valor_caule, significancia)"
   ]
  },
  {
   "cell_type": "code",
   "execution_count": 50,
   "metadata": {},
   "outputs": [
    {
     "name": "stdout",
     "output_type": "stream",
     "text": [
      "[np.float64(0.24113102307479672), np.float64(2.5595381113510713), np.float64(-1.498364735736013), np.float64(-0.5846393350699914), np.float64(0.6166836232841979), np.float64(-0.5281915833815137), np.float64(-4.6092288068722596), np.float64(-3.1082589042069024), np.float64(-4.6598762944660415), np.float64(-0.9702744911520746), np.float64(0.5265707056638171), np.float64(0.9188112900970891)]\n",
      "\n",
      "[np.float64(0.8213094911909129), np.float64(0.06266872382646393), np.float64(0.20840227707383943), np.float64(0.5901776919631556), np.float64(0.5708117367667838), np.float64(0.6253121038458637), np.float64(0.009961430677463037), np.float64(0.035932410056244306), np.float64(0.00959044721548934), np.float64(0.3868532768463617), np.float64(0.626339709058932), np.float64(0.41018622749891426)]\n"
     ]
    }
   ],
   "source": [
    "t_stat_lista = []\n",
    "p_valor_lista = []\n",
    "\n",
    "for i,n in zip(amostras_solos_horta, amostras_solos_fito):\n",
    "    t_stat, p_valor = stats.ttest_ind(i,n)\n",
    "    t_stat_lista.append(t_stat)\n",
    "    p_valor_lista.append(p_valor)\n",
    "\n",
    "print(t_stat_lista)\n",
    "print()\n",
    "print(p_valor_lista)"
   ]
  },
  {
   "cell_type": "code",
   "execution_count": 51,
   "metadata": {},
   "outputs": [
    {
     "name": "stdout",
     "output_type": "stream",
     "text": [
      "Como pvalor = 0.821 > significância, devemos aceitar a hipótese nula.\n",
      "Como pvalor = 0.063 > significância, devemos aceitar a hipótese nula.\n",
      "Como pvalor = 0.208 > significância, devemos aceitar a hipótese nula.\n",
      "Como pvalor = 0.590 > significância, devemos aceitar a hipótese nula.\n",
      "Como pvalor = 0.571 > significância, devemos aceitar a hipótese nula.\n",
      "Como pvalor = 0.625 > significância, devemos aceitar a hipótese nula.\n",
      "Como pvalor = 0.010 < significância, rejeitamos a hipótese nula.\n",
      "Como pvalor = 0.036 < significância, rejeitamos a hipótese nula.\n",
      "Como pvalor = 0.010 < significância, rejeitamos a hipótese nula.\n",
      "Como pvalor = 0.387 > significância, devemos aceitar a hipótese nula.\n",
      "Como pvalor = 0.626 > significância, devemos aceitar a hipótese nula.\n",
      "Como pvalor = 0.410 > significância, devemos aceitar a hipótese nula.\n"
     ]
    }
   ],
   "source": [
    "hipoteses = []\n",
    "\n",
    "for i in p_valor_lista:\n",
    "    hipotese = valor_signif(i, significancia)\n",
    "    hipoteses.append(hipotese)"
   ]
  },
  {
   "cell_type": "code",
   "execution_count": null,
   "metadata": {},
   "outputs": [],
   "source": []
  }
 ],
 "metadata": {
  "kernelspec": {
   "display_name": "Python 3",
   "language": "python",
   "name": "python3"
  },
  "language_info": {
   "codemirror_mode": {
    "name": "ipython",
    "version": 3
   },
   "file_extension": ".py",
   "mimetype": "text/x-python",
   "name": "python",
   "nbconvert_exporter": "python",
   "pygments_lexer": "ipython3",
   "version": "3.10.12"
  },
  "orig_nbformat": 4
 },
 "nbformat": 4,
 "nbformat_minor": 2
}
